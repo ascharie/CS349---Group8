{
 "cells": [
  {
   "cell_type": "code",
   "execution_count": 41,
   "metadata": {},
   "outputs": [],
   "source": [
    "import numpy as np\n",
    "import pandas as pd\n",
    "import torch\n",
    "import torch.nn as nn\n",
    "from torch.utils.data import DataLoader, Dataset\n",
    "from sklearn.preprocessing import MinMaxScaler\n",
    "from sklearn.metrics import accuracy_score, roc_auc_score\n",
    "import matplotlib.pyplot as plt"
   ]
  },
  {
   "cell_type": "markdown",
   "metadata": {},
   "source": [
    "#### Import Data"
   ]
  },
  {
   "cell_type": "code",
   "execution_count": 2,
   "metadata": {},
   "outputs": [],
   "source": [
    "center_surround_test = pd.read_csv('center_surround_test.csv')\n",
    "center_surround_train = pd.read_csv('center_surround_train.csv')\n",
    "center_surround_valid = pd.read_csv('center_surround_valid.csv')\n",
    "spiral_test = pd.read_csv('spiral_test.csv')\n",
    "spiral_train = pd.read_csv('spiral_train.csv')\n",
    "spiral_valid = pd.read_csv('spiral_valid.csv')\n",
    "two_gaussians_test = pd.read_csv('two_gaussians_test.csv')\n",
    "two_gaussians_train = pd.read_csv('two_gaussians_train.csv')\n",
    "two_gaussians_valid = pd.read_csv('two_gaussians_valid.csv')\n",
    "xor_test = pd.read_csv('xor_test.csv')\n",
    "xor_train = pd.read_csv('xor_train.csv')\n",
    "xor_valid = pd.read_csv('xor_valid.csv')"
   ]
  },
  {
   "cell_type": "markdown",
   "metadata": {},
   "source": [
    "#### Set additional parameters"
   ]
  },
  {
   "cell_type": "code",
   "execution_count": 3,
   "metadata": {},
   "outputs": [],
   "source": [
    "device = \"cuda\" if torch.cuda.is_available() else \"cpu\""
   ]
  },
  {
   "cell_type": "markdown",
   "metadata": {},
   "source": [
    "### 1 - PyTorch Implementation with MCE"
   ]
  },
  {
   "cell_type": "code",
   "execution_count": 73,
   "metadata": {},
   "outputs": [],
   "source": [
    "class Data(Dataset):\n",
    "  def __init__(self, data, targets):\n",
    "    self.data = torch.tensor(data, dtype=torch.float32)\n",
    "    self.labels = torch.tensor(targets, dtype=torch.float32)\n",
    "\n",
    "  def __len__(self):\n",
    "    return self.data.shape[0]\n",
    "  \n",
    "  def __getitem__(self, idx):\n",
    "    return self.data[idx], self.labels[idx]\n",
    "\n",
    "class FeedForward(nn.Module):\n",
    "  def __init__(self, size_in, size_out, k, device=device):\n",
    "    super(FeedForward, self).__init__()\n",
    "    self.linearStack = nn.Sequential(\n",
    "        nn.Linear(size_in, k),\n",
    "        nn.LeakyReLU(),\n",
    "        nn.Linear(k, size_out),\n",
    "        nn.Sigmoid()\n",
    "    )\n",
    "  \n",
    "  def forward(self, x):\n",
    "    x = self.linearStack(x)\n",
    "    return x\n",
    "  \n",
    "def train_model(model, dataloader, criterion, optimizer, device):\n",
    "  model.train()\n",
    "  for data, target in dataloader:\n",
    "      data, target = data.to(device), target.to(device)\n",
    "      optimizer.zero_grad()\n",
    "      output = model(data).squeeze()\n",
    "      loss = criterion(output, target)\n",
    "      loss.backward()\n",
    "      optimizer.step()\n",
    "\n",
    "def evaluate_model(model, dataloader, device):\n",
    "  model.eval()\n",
    "  targets = []\n",
    "  predictions = []\n",
    "  with torch.no_grad():\n",
    "      for data, target in dataloader:\n",
    "          data = data.to(device)\n",
    "          output = model(data).squeeze()\n",
    "          predictions.extend(output.cpu().numpy())\n",
    "          targets.extend(target.cpu().numpy())\n",
    "  # Calculate binary classification metrics\n",
    "  predictions = np.array(predictions) > 0.5  # Threshold at 0.5\n",
    "  accuracy = accuracy_score(targets, predictions)\n",
    "  auc = roc_auc_score(targets, predictions)\n",
    "  return accuracy, auc\n",
    "\n",
    "def process_data(train_df, valid_df, test_df, batch_size, shuffle):\n",
    "  # set up data\n",
    "  train_data_df = train_df.loc[:, train_df.columns != 'label']\n",
    "  train_target_df = train_df['label']\n",
    "  valid_data_df = valid_df.loc[:, valid_df.columns != 'label']\n",
    "  valid_target_df = valid_df['label']\n",
    "  test_data_df = test_df.loc[:, test_df.columns != 'label']\n",
    "  test_target_df = test_df['label']\n",
    "\n",
    "  len_features = len(train_data_df.columns)\n",
    "\n",
    "  # fit and transform data\n",
    "  sc = MinMaxScaler()\n",
    "  train_data_df = sc.fit_transform(train_data_df)\n",
    "  test_data_df = sc.transform(test_data_df)\n",
    "  valid_data_df = sc.transform(valid_data_df)\n",
    "\n",
    "  # set up and implement data loaders\n",
    "  train_data = Data(train_data_df, train_target_df)\n",
    "  valid_data = Data(valid_data_df, valid_target_df)\n",
    "  test_data = Data(test_data_df, test_target_df)\n",
    "  train_loader = DataLoader(train_data, batch_size, shuffle)\n",
    "  valid_loader = DataLoader(valid_data, batch_size, shuffle)\n",
    "  test_loader = DataLoader(test_data, batch_size, shuffle)\n",
    "\n",
    "  return train_loader, valid_loader, test_loader, len_features"
   ]
  },
  {
   "cell_type": "code",
   "execution_count": 75,
   "metadata": {},
   "outputs": [],
   "source": [
    "# set up data\n",
    "batch_size = 32\n",
    "shuffle = False\n",
    "train_loader, valid_loader, test_loader, len_features = \\\n",
    "    process_data(spiral_train, spiral_valid, spiral_test, batch_size, shuffle)\n",
    "\n",
    "# set up model\n",
    "k = 5 # width of hidden layer\n",
    "lr = 5e-2 # learning rate\n",
    "model = FeedForward(len_features, 1, k).to(device)\n",
    "loss_fun = nn.BCEWithLogitsLoss()\n",
    "optimizer = torch.optim.Adam(model.parameters(), lr=lr)"
   ]
  },
  {
   "cell_type": "code",
   "execution_count": 78,
   "metadata": {},
   "outputs": [
    {
     "name": "stdout",
     "output_type": "stream",
     "text": [
      "Epoch 1/50, Validation Set - Accuracy: 0.7350 | AUC: 0.7350\n",
      "Epoch 10/50, Validation Set - Accuracy: 0.7350 | AUC: 0.7350\n",
      "Epoch 20/50, Validation Set - Accuracy: 0.7350 | AUC: 0.7350\n",
      "Epoch 30/50, Validation Set - Accuracy: 0.7350 | AUC: 0.7350\n",
      "Epoch 40/50, Validation Set - Accuracy: 0.7350 | AUC: 0.7350\n",
      "Epoch 50/50, Validation Set - Accuracy: 0.7350 | AUC: 0.7350\n"
     ]
    }
   ],
   "source": [
    "epochs = 50 # number of epochs\n",
    "for epoch in range(epochs):\n",
    "    train_model(model, train_loader, loss_fun, optimizer, device)\n",
    "    if ((epoch+1) % 10 == 0) or epoch == 0:\n",
    "        accuracy, auc = evaluate_model(model, valid_loader, device)\n",
    "        print(f\"Epoch {epoch+1}/{epochs}, Validation Set - Accuracy: {accuracy:.4f} | AUC: {auc:.4f}\")"
   ]
  },
  {
   "cell_type": "code",
   "execution_count": 59,
   "metadata": {},
   "outputs": [
    {
     "name": "stdout",
     "output_type": "stream",
     "text": [
      "Test set results:\n",
      "Accuracy: 0.8600, AUC: 0.8600\n"
     ]
    }
   ],
   "source": [
    "print(\"Test set results:\")\n",
    "accuracy, auc = evaluate_model(model, test_loader, device)\n",
    "print(f\"Accuracy: {accuracy:.4f}, AUC: {auc:.4f}\")"
   ]
  },
  {
   "cell_type": "markdown",
   "metadata": {},
   "source": [
    "### 2 - PyTorch Implementation with MSE"
   ]
  },
  {
   "cell_type": "code",
   "execution_count": null,
   "metadata": {},
   "outputs": [],
   "source": []
  },
  {
   "cell_type": "markdown",
   "metadata": {},
   "source": [
    "### 3 - Manual Gradients and Updates"
   ]
  },
  {
   "cell_type": "code",
   "execution_count": null,
   "metadata": {},
   "outputs": [],
   "source": []
  },
  {
   "cell_type": "markdown",
   "metadata": {},
   "source": [
    "### 4 - Regularizers"
   ]
  },
  {
   "cell_type": "code",
   "execution_count": null,
   "metadata": {},
   "outputs": [],
   "source": []
  }
 ],
 "metadata": {
  "kernelspec": {
   "display_name": "venv_cs349",
   "language": "python",
   "name": "python3"
  },
  "language_info": {
   "codemirror_mode": {
    "name": "ipython",
    "version": 3
   },
   "file_extension": ".py",
   "mimetype": "text/x-python",
   "name": "python",
   "nbconvert_exporter": "python",
   "pygments_lexer": "ipython3",
   "version": "3.12.2"
  }
 },
 "nbformat": 4,
 "nbformat_minor": 2
}
