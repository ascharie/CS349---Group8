{
 "cells": [
  {
   "cell_type": "code",
   "execution_count": 57,
   "metadata": {},
   "outputs": [
    {
     "data": {
      "text/plain": [
       "<module 'starter' from 'c:\\\\Users\\\\erica\\\\OneDrive - ETH Zurich\\\\Exchange\\\\Machine Learning\\\\CS349---Group8\\\\HW2\\\\starter.py'>"
      ]
     },
     "execution_count": 57,
     "metadata": {},
     "output_type": "execute_result"
    }
   ],
   "source": [
    "from sklearn.metrics import confusion_matrix, precision_score, recall_score, f1_score, accuracy_score\n",
    "import matplotlib as plt\n",
    "import numpy as np\n",
    "import starter\n",
    "import importlib\n",
    "importlib.reload(starter)"
   ]
  },
  {
   "cell_type": "markdown",
   "metadata": {},
   "source": [
    "## Part I"
   ]
  },
  {
   "cell_type": "code",
   "execution_count": 2,
   "metadata": {},
   "outputs": [],
   "source": [
    "# dimensionality reduction\n",
    "def reduce(train, valid, test, method):\n",
    "    if method == 'pca':\n",
    "        return starter.pca(train, valid, test)\n",
    "    elif method == 'bin':\n",
    "        return starter.binarize(train, valid, test)\n",
    "    elif method == 'none':\n",
    "        return starter.make_float(train, valid, test)\n",
    "    \n",
    "# test model\n",
    "def evaluate_knn(train, query, distance_metric):\n",
    "\n",
    "    labels=['0', '1', '2', '3', '4', '5', '6', '7', '8', '9']\n",
    "    query_labels = [i[0] for i in query]\n",
    "    query_data = [i[1] for i in query]\n",
    "    result_labels = starter.knn(train, query_data, distance_metric)\n",
    "\n",
    "    # performance metrics\n",
    "    query_accuracy = accuracy_score(query_labels, result_labels)\n",
    "    query_precision = precision_score(query_labels, result_labels, average='macro')\n",
    "    query_recall = recall_score(query_labels, result_labels, average='macro')\n",
    "    query_f1 = f1_score(query_labels, result_labels, average='macro')\n",
    "    confusion = confusion_matrix(query_labels, result_labels, labels=labels)\n",
    "\n",
    "    return query_accuracy, query_precision, query_recall, query_f1, confusion"
   ]
  },
  {
   "cell_type": "code",
   "execution_count": 3,
   "metadata": {},
   "outputs": [],
   "source": [
    "mnist_train = starter.read_data('mnist_train.csv')\n",
    "mnist_valid = starter.read_data('mnist_valid.csv')\n",
    "mnist_test = starter.read_data('mnist_test.csv')"
   ]
  },
  {
   "cell_type": "code",
   "execution_count": 58,
   "metadata": {},
   "outputs": [],
   "source": [
    "# reduce dimensionality\n",
    "train, valid, test = reduce(mnist_train, mnist_valid, mnist_test, 'pca')"
   ]
  },
  {
   "cell_type": "markdown",
   "metadata": {},
   "source": [
    "### KNN"
   ]
  },
  {
   "cell_type": "code",
   "execution_count": 19,
   "metadata": {},
   "outputs": [
    {
     "name": "stdout",
     "output_type": "stream",
     "text": [
      "Validation Set Performance\n",
      "Accuracy: 0.83\n",
      "Precision: 0.835665299612668\n",
      "Recall: 0.8356299799234581\n",
      "F1: 0.8282949673148796\n"
     ]
    }
   ],
   "source": [
    "# test on validation set\n",
    "valid_accuracy, valid_precision, valid_recall, valid_f1, confusion = evaluate_knn(train, valid, 'euclidean')\n",
    "print('Validation Set Performance')\n",
    "print('Accuracy:', valid_accuracy)\n",
    "print('Precision:', valid_precision)\n",
    "print('Recall:', valid_recall)\n",
    "print('F1:', valid_f1)"
   ]
  },
  {
   "cell_type": "code",
   "execution_count": 20,
   "metadata": {},
   "outputs": [
    {
     "name": "stdout",
     "output_type": "stream",
     "text": [
      "Test Set Performance\n",
      "Accuracy: 0.875\n",
      "Precision: 0.878171255344243\n",
      "Recall: 0.8732072430493483\n",
      "F1: 0.8735102153633392\n",
      "[[17  0  1  0  0  0  0  0  0  0]\n",
      " [ 0 27  0  0  0  0  0  0  0  0]\n",
      " [ 0  2 14  0  0  0  1  1  1  0]\n",
      " [ 0  0  2 15  0  0  0  0  1  0]\n",
      " [ 0  0  0  0 23  0  0  1  0  1]\n",
      " [ 0  0  0  1  0 11  0  0  1  0]\n",
      " [ 0  0  0  0  0  0 13  0  0  0]\n",
      " [ 0  1  0  0  1  0  0 22  0  0]\n",
      " [ 2  0  0  1  0  1  0  0 16  1]\n",
      " [ 1  2  0  0  1  0  0  1  0 17]]\n"
     ]
    }
   ],
   "source": [
    "# test set performance\n",
    "test_accuracy, test_precision, test_recall, test_f1, confusion = evaluate_knn(train, test, 'euclidean')\n",
    "print('Test Set Performance')\n",
    "print('Accuracy:', test_accuracy)\n",
    "print('Precision:', test_precision)\n",
    "print('Recall:', test_recall)\n",
    "print('F1:', test_f1)\n",
    "\n",
    "print(confusion)"
   ]
  },
  {
   "cell_type": "markdown",
   "metadata": {},
   "source": [
    "### K-Means"
   ]
  },
  {
   "cell_type": "code",
   "execution_count": null,
   "metadata": {},
   "outputs": [],
   "source": [
    "# train k-means\n",
    "# train association function\n",
    "# test on validation set\n",
    "# tune hyperparameters\n",
    "# test on test set\n",
    "\n",
    "\n",
    "labels = [i[0] for i in valid]\n",
    "data = [i[1] for i in valid]\n",
    "\n",
    "result_labels = starter.kmeans(train, data, 'euclidean')\n"
   ]
  },
  {
   "cell_type": "code",
   "execution_count": 60,
   "metadata": {},
   "outputs": [
    {
     "name": "stdout",
     "output_type": "stream",
     "text": [
      "Validation Set Performance\n",
      "Accuracy: 0.665\n",
      "Precision: 0.6328937748766493\n",
      "Recall: 0.6519018602170776\n",
      "F1: 0.6137930431259023\n",
      "[[13  0  1  1  0  0  1  0  0  0]\n",
      " [ 0 17  1  0  0  0  0  0  0  0]\n",
      " [ 1  0 14  2  0  0  1  1  3  0]\n",
      " [ 0  0  0 19  1  0  0  1  0  0]\n",
      " [ 1  1  1  0 17  0  0  1  1  0]\n",
      " [ 0  0  0 11  6  5  0  0  0  0]\n",
      " [ 2  3  0  0  0  0 17  0  1  0]\n",
      " [ 1  1  0  1  0  0  0 16  1  0]\n",
      " [ 0  1  0  4  1  1  0  0 15  0]\n",
      " [ 0  0  2  0  6  0  0  6  0  0]]\n"
     ]
    },
    {
     "name": "stderr",
     "output_type": "stream",
     "text": [
      "C:\\Users\\erica\\AppData\\Roaming\\Python\\Python312\\site-packages\\sklearn\\metrics\\_classification.py:1531: UndefinedMetricWarning: Precision is ill-defined and being set to 0.0 in labels with no predicted samples. Use `zero_division` parameter to control this behavior.\n",
      "  _warn_prf(average, modifier, f\"{metric.capitalize()} is\", len(result))\n"
     ]
    }
   ],
   "source": [
    "unique_result_labels = set(result_labels)\n",
    "counts = {result_label: [0 for integer in range(10)] for result_label in unique_result_labels}\n",
    "for result_label, label in zip(result_labels, labels):\n",
    "    counts[result_label][int(label)] += 1\n",
    "mapping = {result_label: np.argmax(count) for result_label, count in counts.items()}\n",
    "\n",
    "new_labels = [str(mapping[result_label]) for result_label in result_labels]\n",
    "\n",
    "# performance metrics\n",
    "query_accuracy = accuracy_score(labels, new_labels)\n",
    "query_precision = precision_score(labels, new_labels, average='macro')\n",
    "query_recall = recall_score(labels, new_labels, average='macro')\n",
    "query_f1 = f1_score(labels, new_labels, average='macro')\n",
    "confusion = confusion_matrix(labels, new_labels, labels=['0', '1', '2', '3', '4', '5', '6', '7', '8', '9'])\n",
    "print('Validation Set Performance')\n",
    "print('Accuracy:', query_accuracy)\n",
    "print('Precision:', query_precision)\n",
    "print('Recall:', query_recall)\n",
    "print('F1:', query_f1)\n",
    "print(confusion)\n"
   ]
  }
 ],
 "metadata": {
  "kernelspec": {
   "display_name": "Python 3",
   "language": "python",
   "name": "python3"
  },
  "language_info": {
   "codemirror_mode": {
    "name": "ipython",
    "version": 3
   },
   "file_extension": ".py",
   "mimetype": "text/x-python",
   "name": "python",
   "nbconvert_exporter": "python",
   "pygments_lexer": "ipython3",
   "version": "3.12.2"
  }
 },
 "nbformat": 4,
 "nbformat_minor": 2
}
