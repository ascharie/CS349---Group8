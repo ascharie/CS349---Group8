{
 "cells": [
  {
   "cell_type": "code",
   "execution_count": 63,
   "metadata": {},
   "outputs": [
    {
     "data": {
      "text/plain": [
       "<module 'starter' from '/Users/minghui/Documents/COMP_SCI 349/CS349---Group8/HW2/starter.py'>"
      ]
     },
     "execution_count": 63,
     "metadata": {},
     "output_type": "execute_result"
    }
   ],
   "source": [
    "from sklearn.metrics import confusion_matrix, precision_score, recall_score, f1_score, accuracy_score\n",
    "import matplotlib as plt\n",
    "import numpy as np\n",
    "import random\n",
    "import starter\n",
    "import importlib\n",
    "importlib.reload(starter)"
   ]
  },
  {
   "cell_type": "markdown",
   "metadata": {},
   "source": [
    "## Part I"
   ]
  },
  {
   "cell_type": "code",
   "execution_count": 9,
   "metadata": {},
   "outputs": [],
   "source": [
    "# dimensionality reduction\n",
    "def reduce(train, valid, test, method, var):\n",
    "    if method == 'pca':\n",
    "        return starter.pca(train, valid, test, var)\n",
    "    elif method == 'bin':\n",
    "        return starter.binarize(train, valid, test)\n",
    "    elif method == 'none':\n",
    "        return starter.make_float(train, valid, test)"
   ]
  },
  {
   "cell_type": "code",
   "execution_count": 10,
   "metadata": {},
   "outputs": [],
   "source": [
    "mnist_train = starter.read_data('mnist_train.csv')\n",
    "mnist_valid = starter.read_data('mnist_valid.csv')\n",
    "mnist_test = starter.read_data('mnist_test.csv')"
   ]
  },
  {
   "cell_type": "markdown",
   "metadata": {},
   "source": [
    "### KNN"
   ]
  },
  {
   "cell_type": "code",
   "execution_count": 14,
   "metadata": {},
   "outputs": [
    {
     "name": "stdout",
     "output_type": "stream",
     "text": [
      "Reduced dimensionality by 631 columns\n"
     ]
    }
   ],
   "source": [
    "# reduce dimensionality\n",
    "dimensionality_reduction = 'pca'\n",
    "retained_variance = 0.90 # only used for pca\n",
    "train, valid, test = reduce(mnist_train, mnist_valid, mnist_test, dimensionality_reduction, retained_variance)\n",
    "print('Reduced dimensionality by', len(mnist_train[0][1]) - len(train[0][1]), 'columns')"
   ]
  },
  {
   "cell_type": "code",
   "execution_count": 15,
   "metadata": {},
   "outputs": [],
   "source": [
    "# evaluate the knn\n",
    "def evaluate_knn(train, query, distance_metric):\n",
    "\n",
    "    labels=['0', '1', '2', '3', '4', '5', '6', '7', '8', '9']\n",
    "    query_labels = [i[0] for i in query]\n",
    "    query_data = [i[1] for i in query]\n",
    "    result_labels = starter.knn(train, query_data, distance_metric)\n",
    "\n",
    "    # performance metrics\n",
    "    query_accuracy = accuracy_score(query_labels, result_labels)\n",
    "    # average='macro' takes the arithmetic mean of individual classes' scores\n",
    "    query_precision = precision_score(query_labels, result_labels, average='macro')\n",
    "    query_recall = recall_score(query_labels, result_labels, average='macro')\n",
    "    query_f1 = f1_score(query_labels, result_labels, average='macro')\n",
    "    confusion = confusion_matrix(query_labels, result_labels, labels=labels)\n",
    "\n",
    "    return query_accuracy, query_precision, query_recall, query_f1, confusion"
   ]
  },
  {
   "cell_type": "code",
   "execution_count": 16,
   "metadata": {},
   "outputs": [
    {
     "name": "stdout",
     "output_type": "stream",
     "text": [
      "Validation Set Performance\n",
      "Accuracy: 0.83\n",
      "Precision: 0.8305262487770229\n",
      "Recall: 0.8328349488675576\n",
      "F1: 0.8262261449538295\n"
     ]
    }
   ],
   "source": [
    "# test on validation set\n",
    "valid_accuracy, valid_precision, valid_recall, valid_f1, confusion = evaluate_knn(train, valid, 'euclidean')\n",
    "print('Validation Set Performance')\n",
    "print('Accuracy:', valid_accuracy)\n",
    "print('Precision:', valid_precision)\n",
    "print('Recall:', valid_recall)\n",
    "print('F1:', valid_f1)"
   ]
  },
  {
   "cell_type": "code",
   "execution_count": 17,
   "metadata": {},
   "outputs": [
    {
     "name": "stdout",
     "output_type": "stream",
     "text": [
      "Test Set Performance\n",
      "Accuracy: 0.885\n",
      "Precision: 0.892714608371754\n",
      "Recall: 0.8834487559224401\n",
      "F1: 0.8857523531600611\n",
      "[[17  0  1  0  0  0  0  0  0  0]\n",
      " [ 0 27  0  0  0  0  0  0  0  0]\n",
      " [ 0  1 15  0  1  0  0  1  1  0]\n",
      " [ 0  0  2 15  0  0  0  0  1  0]\n",
      " [ 0  0  0  0 23  0  0  1  0  1]\n",
      " [ 0  0  0  1  0 11  0  0  1  0]\n",
      " [ 0  0  0  0  0  0 13  0  0  0]\n",
      " [ 0  1  0  0  1  0  0 22  0  0]\n",
      " [ 1  0  0  1  0  1  0  0 18  0]\n",
      " [ 1  2  0  0  1  0  0  2  0 16]]\n"
     ]
    }
   ],
   "source": [
    "# test set performance\n",
    "test_accuracy, test_precision, test_recall, test_f1, confusion = evaluate_knn(train, test, 'euclidean')\n",
    "print('Test Set Performance')\n",
    "print('Accuracy:', test_accuracy)\n",
    "print('Precision:', test_precision)\n",
    "print('Recall:', test_recall)\n",
    "print('F1:', test_f1)\n",
    "\n",
    "print(confusion)"
   ]
  },
  {
   "cell_type": "markdown",
   "metadata": {},
   "source": [
    "### K-Means"
   ]
  },
  {
   "cell_type": "code",
   "execution_count": 18,
   "metadata": {},
   "outputs": [
    {
     "name": "stdout",
     "output_type": "stream",
     "text": [
      "Reduced dimensionality by 331 columns\n"
     ]
    }
   ],
   "source": [
    "# reduce dimensionality\n",
    "dimensionality_reduction = 'pca'\n",
    "retained_variance = 0.995 # only used for pca\n",
    "train, valid, test = reduce(mnist_train, mnist_valid, mnist_test, dimensionality_reduction, retained_variance)\n",
    "print('Reduced dimensionality by', len(mnist_train[0][1]) - len(train[0][1]), 'columns')"
   ]
  },
  {
   "cell_type": "code",
   "execution_count": 19,
   "metadata": {},
   "outputs": [],
   "source": [
    "# train association of k-means clusters with digits\n",
    "def associate_clusters(result_labels, labels):\n",
    "    unique_result_labels = set(result_labels)\n",
    "    counts = {result_label: [0 for integer in range(10)] for result_label in unique_result_labels}\n",
    "    for result_label, label in zip(result_labels, labels):\n",
    "        counts[result_label][int(label)] += 1\n",
    "    mapping = {result_label: str(np.argmax(count)) for result_label, count in counts.items()}\n",
    "\n",
    "    return mapping\n",
    "\n",
    "def performance_kmeans(result_labels, labels):\n",
    "    # performance metrics\n",
    "    accuracy = accuracy_score(labels, result_labels)\n",
    "    # average='macro' takes the arithmetic mean of individual classes' scores\n",
    "    precision = precision_score(labels, result_labels, average='macro')\n",
    "    recall = recall_score(labels, result_labels, average='macro')\n",
    "    f1 = f1_score(labels, result_labels, average='macro')\n",
    "    confusion = confusion_matrix(labels, result_labels, labels=['0', '1', '2', '3', '4', '5', '6', '7', '8', '9'])\n",
    "\n",
    "    return accuracy, precision, recall, f1, confusion"
   ]
  },
  {
   "cell_type": "code",
   "execution_count": 20,
   "metadata": {},
   "outputs": [],
   "source": [
    "# train k-means\n",
    "train_data = [i[1] for i in train]\n",
    "train_labels = [i[0] for i in train]\n",
    "k = 30\n",
    "cluster_labels = [chr(ord('a') + i) for i in range(k)]\n",
    "random_cluster_means = random.sample(train_data, k) # initialize initial means randomly\n",
    "initial_guess = [[cluster_labels[i], random_cluster_means[i]] for i in range(k)]\n",
    "trained_means = starter.kmeans_train(train_data, 'euclidean', initial_guess)\n",
    "\n",
    "# evaluate k-means train data\n",
    "train_result_labels = starter.kmeans_evaluate(train_data, trained_means, 'euclidean')\n",
    "\n",
    "# train association function\n",
    "mapping = associate_clusters(train_result_labels, train_labels)"
   ]
  },
  {
   "cell_type": "code",
   "execution_count": 64,
   "metadata": {},
   "outputs": [
    {
     "name": "stdout",
     "output_type": "stream",
     "text": [
      "Validation Set Performance\n",
      "Accuracy: 0.595\n",
      "Precision: 0.6249397365891792\n",
      "Recall: 0.6019263285024155\n",
      "F1: 0.5929581992541278\n",
      "\n",
      "\n"
     ]
    }
   ],
   "source": [
    "# evaluate k-means on validation set\n",
    "valid_data = [i[1] for i in valid]\n",
    "valid_labels = [i[0] for i in valid]\n",
    "valid_result_labels = starter.kmeans_evaluate(valid_data, trained_means, 'euclidean')\n",
    "valid_result_labels_mapped = [mapping[label] for label in valid_result_labels]\n",
    "# check performance\n",
    "valid_accuracy, valid_precision, valid_recall, valid_f1, confusion = performance_kmeans(valid_result_labels_mapped, valid_labels)\n",
    "print('Validation Set Performance')\n",
    "print('Accuracy:', valid_accuracy)\n",
    "print('Precision:', valid_precision)\n",
    "print('Recall:', valid_recall)\n",
    "print('F1:', valid_f1)\n",
    "print('\\n')"
   ]
  },
  {
   "cell_type": "code",
   "execution_count": 65,
   "metadata": {},
   "outputs": [
    {
     "name": "stdout",
     "output_type": "stream",
     "text": [
      "Test Set Performance\n",
      "Accuracy: 0.675\n",
      "Precision: 0.6881093857832987\n",
      "Recall: 0.6625137425926899\n",
      "F1: 0.6576570280127599\n",
      "[[14  0  1  1  1  0  1  0  0  0]\n",
      " [ 0 23  1  0  0  0  1  0  2  0]\n",
      " [ 0  0 12  2  0  0  1  1  3  0]\n",
      " [ 0  1  1 13  1  0  0  0  2  0]\n",
      " [ 0  0  2  0 16  0  0  2  0  5]\n",
      " [ 0  0  0  5  1  3  0  0  3  1]\n",
      " [ 0  0  2  0  0  0 11  0  0  0]\n",
      " [ 1  0  0  1  0  1  0 17  2  2]\n",
      " [ 1  0  0  1  1  0  1  1 16  0]\n",
      " [ 0  1  1  0  8  0  0  2  0 10]]\n"
     ]
    }
   ],
   "source": [
    "# evaluate k-means on test set\n",
    "test_data = [i[1] for i in test]\n",
    "test_labels = [i[0] for i in test]\n",
    "test_result_labels = starter.kmeans_evaluate(test_data, trained_means, 'euclidean')\n",
    "test_result_labels_mapped = [mapping[label] for label in test_result_labels]\n",
    "# check performance\n",
    "test_accuracy, test_precision, test_recall, test_f1, confusion = performance_kmeans(test_result_labels_mapped, test_labels)\n",
    "print('Test Set Performance')\n",
    "print('Accuracy:', test_accuracy)\n",
    "print('Precision:', test_precision)\n",
    "print('Recall:', test_recall)\n",
    "print('F1:', test_f1)\n",
    "print(confusion)"
   ]
  },
  {
   "cell_type": "markdown",
   "metadata": {},
   "source": [
    "### Part 2"
   ]
  },
  {
   "cell_type": "markdown",
   "metadata": {},
   "source": [
    "## Q1 movie rating collaborative filter"
   ]
  },
  {
   "cell_type": "code",
   "execution_count": 62,
   "metadata": {},
   "outputs": [
    {
     "name": "stdout",
     "output_type": "stream",
     "text": [
      "User a\n",
      "\n",
      "Validation for user a - Precision: 0.5, Recall: 0.023255813953488372, F1-score: 0.04444444444444444\n",
      "Test for user a - Precision: 0.75, Recall: 0.1111111111111111, F1-score: 0.19354838709677416\n",
      "\n",
      "User b\n",
      "\n",
      "Validation for user b - Precision: 0.4166666666666667, Recall: 0.2777777777777778, F1-score: 0.33333333333333337\n",
      "Test for user b - Precision: 0.34375, Recall: 0.4230769230769231, F1-score: 0.3793103448275862\n",
      "\n",
      "User c\n",
      "\n",
      "Validation for user c - Precision: 0.5806451612903226, Recall: 0.20930232558139536, F1-score: 0.3076923076923077\n",
      "Test for user c - Precision: 0.4864864864864865, Recall: 0.21428571428571427, F1-score: 0.2975206611570248\n"
     ]
    }
   ],
   "source": [
    "\"\"\"\n",
    "Observations:\n",
    "Higher M leads to higher recall and lower precision\n",
    "Lower M leads to lower recall and higher precision\n",
    "\"\"\"\n",
    "\n",
    "K = 80 # Number of similar users\n",
    "M = 180 # Number of movies to recommend\n",
    "\n",
    "A_userid = \"405\"\n",
    "B_userid = \"655\"\n",
    "C_userid = \"13\"\n",
    "\n",
    "#for users a\n",
    "print(\"User a\\n\")\n",
    "movielens_ratings = starter.read_ratings('movielens.txt')\n",
    "train_ratings_a = starter.read_ratings('train_a.txt')\n",
    "valid_ratings_a = starter.read_ratings('valid_a.txt')\n",
    "test_ratings_a = starter.read_ratings('test_a.txt')\n",
    "\n",
    "\n",
    "similar_users_a = starter.get_similar_users(train_ratings_a, movielens_ratings, A_userid, \"euclidean\", K)\n",
    "recommendations_a = starter.recommend_movies(movielens_ratings, A_userid, similar_users_a, M)\n",
    "user_preference_valid_a = valid_ratings_a[A_userid]\n",
    "precision, recall, f1 = starter.evaluate_collaborative_filter(recommendations_a, user_preference_valid_a)\n",
    "print(f'Validation for user a - Precision: {precision}, Recall: {recall}, F1-score: {f1}')\n",
    "\n",
    "user_preference_test_a = test_ratings_a[A_userid]\n",
    "precision, recall, f1 = starter.evaluate_collaborative_filter(recommendations_a, user_preference_test_a)\n",
    "print(f'Test for user a - Precision: {precision}, Recall: {recall}, F1-score: {f1}')\n",
    "\n",
    "#for users b\n",
    "print(\"\\nUser b\\n\")\n",
    "movielens_ratings = starter.read_ratings('movielens.txt')\n",
    "train_ratings_b = starter.read_ratings('train_b.txt')\n",
    "valid_ratings_b = starter.read_ratings('valid_b.txt')\n",
    "test_ratings_b = starter.read_ratings('test_b.txt')\n",
    "\n",
    "similar_users_b = starter.get_similar_users(train_ratings_b, movielens_ratings, B_userid, \"euclidean\", K)\n",
    "recommendations_b = starter.recommend_movies(movielens_ratings, B_userid, similar_users_b, M)\n",
    "\n",
    "user_preference_valid_b = valid_ratings_b[B_userid]\n",
    "precision, recall, f1 = starter.evaluate_collaborative_filter(recommendations_b, user_preference_valid_b)\n",
    "print(f'Validation for user b - Precision: {precision}, Recall: {recall}, F1-score: {f1}')\n",
    "\n",
    "user_preference_test_b = test_ratings_b[B_userid]\n",
    "precision, recall, f1 = starter.evaluate_collaborative_filter(recommendations_b, user_preference_test_b)\n",
    "print(f'Test for user b - Precision: {precision}, Recall: {recall}, F1-score: {f1}')\n",
    "\n",
    "#for users c\n",
    "print(\"\\nUser c\\n\")\n",
    "movielens_ratings = starter.read_ratings('movielens.txt')\n",
    "train_ratings_c = starter.read_ratings('train_c.txt')\n",
    "valid_ratings_c = starter.read_ratings('valid_c.txt')\n",
    "test_ratings_c = starter.read_ratings('test_c.txt')\n",
    "\n",
    "similar_users_c = starter.get_similar_users(train_ratings_c, movielens_ratings, C_userid, \"euclidean\", K)\n",
    "recommendations_c = starter.recommend_movies(movielens_ratings, C_userid, similar_users_c, M)\n",
    "\n",
    "user_preference_valid_c = valid_ratings_c[C_userid]\n",
    "precision, recall, f1 = starter.evaluate_collaborative_filter(recommendations_c, user_preference_valid_c)\n",
    "print(f'Validation for user c - Precision: {precision}, Recall: {recall}, F1-score: {f1}')\n",
    "\n",
    "user_preference_test_c = test_ratings_c[C_userid]\n",
    "precision, recall, f1 = starter.evaluate_collaborative_filter(recommendations_c, user_preference_test_c)\n",
    "print(f'Test for user c - Precision: {precision}, Recall: {recall}, F1-score: {f1}')"
   ]
  },
  {
   "cell_type": "markdown",
   "metadata": {},
   "source": [
    "## Q2 improved collaborative filter with other attributes (age and gender) (with normalization)"
   ]
  },
  {
   "cell_type": "code",
   "execution_count": 65,
   "metadata": {},
   "outputs": [
    {
     "name": "stdout",
     "output_type": "stream",
     "text": [
      "User a\n",
      "\n",
      "Validation for user a - Precision: 0.0, Recall: 0.0, F1-score: 0.0\n",
      "Test for user a - Precision: 0.6, Recall: 0.1111111111111111, F1-score: 0.18750000000000003\n",
      "\n",
      "User b\n",
      "\n",
      "Validation for user b - Precision: 0.37037037037037035, Recall: 0.2777777777777778, F1-score: 0.3174603174603175\n",
      "Test for user b - Precision: 0.25, Recall: 0.3076923076923077, F1-score: 0.27586206896551724\n",
      "\n",
      "User c\n",
      "\n",
      "Validation for user c - Precision: 0.53125, Recall: 0.19767441860465115, F1-score: 0.28813559322033894\n",
      "Test for user c - Precision: 0.45714285714285713, Recall: 0.19047619047619047, F1-score: 0.2689075630252101\n"
     ]
    }
   ],
   "source": [
    "\"\"\"\n",
    "Observations:\n",
    "Higher M leads to higher recall and lower precision\n",
    "Lower M leads to lower recall and higher precision\n",
    "\n",
    "with improved similarity function, the precision is higher\n",
    "\"\"\"\n",
    "\n",
    "K = 80  # Number of similar users\n",
    "M = 180 # Number of movies to recommend\n",
    "A_userid = \"405\"\n",
    "B_userid = \"655\"\n",
    "C_userid = \"13\"\n",
    "\n",
    "# for user a\n",
    "print(\"User a\\n\")\n",
    "movielens_ratings, movielens_userdata, movielens_original, movielens_genres = starter.read_more_data('movielens.txt')\n",
    "train_ratings_a, train_userdata_a, train_original_a, train_genres_a = starter.read_more_data('train_a.txt')\n",
    "valid_ratings_a, valid_userdata_a, valid_original_a, valid_genres_a = starter.read_more_data('valid_a.txt')\n",
    "test_ratings_a, test_userdata_a, test_original_a, test_genres_a = starter.read_more_data('test_a.txt')\n",
    "\n",
    "similar_users_a = starter.get_similar_users_improved(train_ratings_a, movielens_ratings, train_userdata_a, movielens_userdata, train_genres_a, movielens_genres, A_userid, \"euclidean\", K)\n",
    "recommendations_a = starter.recommend_movies(movielens_ratings, A_userid, similar_users_a, M)\n",
    "\n",
    "user_preference_valid_a = valid_original_a[A_userid]\n",
    "precision, recall, f1 = starter.evaluate_collaborative_filter(recommendations_a, user_preference_valid_a)\n",
    "print(f'Validation for user a - Precision: {precision}, Recall: {recall}, F1-score: {f1}')\n",
    "\n",
    "user_preference_test_a = test_original_a[A_userid]\n",
    "precision, recall, f1 = starter.evaluate_collaborative_filter(recommendations_a, user_preference_test_a)\n",
    "print(f'Test for user a - Precision: {precision}, Recall: {recall}, F1-score: {f1}')\n",
    "\n",
    "# for user b\n",
    "print(\"\\nUser b\\n\")\n",
    "movielens_ratings, movielens_userdata, movielens_original, movielens_genres = starter.read_more_data('movielens.txt')\n",
    "train_ratings_b, train_userdata_b, train_original_b, train_genres_b = starter.read_more_data('train_b.txt')\n",
    "valid_ratings_b, valid_userdata_b, valid_original_b, valid_genres_b = starter.read_more_data('valid_b.txt')\n",
    "test_ratings_b, test_userdata_b, test_original_b, test_genres_b = starter.read_more_data('test_b.txt')\n",
    "\n",
    "similar_users_b = starter.get_similar_users_improved(train_ratings_b, movielens_ratings, train_userdata_b, movielens_userdata, train_genres_b, movielens_genres, B_userid, \"euclidean\", K)\n",
    "recommendations_b = starter.recommend_movies(movielens_ratings, B_userid, similar_users_b, M)\n",
    "\n",
    "user_preference_valid_b = valid_original_b[B_userid]\n",
    "precision, recall, f1 = starter.evaluate_collaborative_filter(recommendations_b, user_preference_valid_b)\n",
    "print(f'Validation for user b - Precision: {precision}, Recall: {recall}, F1-score: {f1}')\n",
    "\n",
    "user_preference_test_b = test_original_b[B_userid]\n",
    "precision, recall, f1 = starter.evaluate_collaborative_filter(recommendations_b, user_preference_test_b)\n",
    "(recommendations_b, user_preference_test_b)\n",
    "print(f'Test for user b - Precision: {precision}, Recall: {recall}, F1-score: {f1}')\n",
    "\n",
    "# for user c\n",
    "print(\"\\nUser c\\n\")\n",
    "movielens_ratings, movielens_userdata, movielens_original, movielens_genres = starter.read_more_data('movielens.txt')\n",
    "train_ratings_c, train_userdata_c, train_original_c, train_genres_c = starter.read_more_data('train_c.txt')\n",
    "valid_ratings_c, valid_userdata_c, valid_original_c, valid_genres_c = starter.read_more_data('valid_c.txt')\n",
    "test_ratings_c, test_userdata_c, test_original_c, test_genres_c = starter.read_more_data('test_c.txt')\n",
    "\n",
    "similar_users_c = starter.get_similar_users_improved(train_ratings_c, movielens_ratings, train_userdata_c, movielens_userdata, train_genres_c, movielens_genres, C_userid, \"euclidean\", K)\n",
    "recommendations_c = starter.recommend_movies(movielens_ratings, C_userid, similar_users_c, M)\n",
    "\n",
    "user_preference_valid_c = valid_original_c[C_userid]\n",
    "precision, recall, f1 = starter.evaluate_collaborative_filter(recommendations_c, user_preference_valid_c)\n",
    "print(f'Validation for user c - Precision: {precision}, Recall: {recall}, F1-score: {f1}')\n",
    "\n",
    "user_preference_test_c = test_original_c[C_userid]\n",
    "precision, recall, f1 = starter.evaluate_collaborative_filter(recommendations_c, user_preference_test_c)\n",
    "print(f'Test for user c - Precision: {precision}, Recall: {recall}, F1-score: {f1}')\n"
   ]
  }
 ],
 "metadata": {
  "kernelspec": {
   "display_name": "base",
   "language": "python",
   "name": "python3"
  },
  "language_info": {
   "codemirror_mode": {
    "name": "ipython",
    "version": 3
   },
   "file_extension": ".py",
   "mimetype": "text/x-python",
   "name": "python",
   "nbconvert_exporter": "python",
   "pygments_lexer": "ipython3",
   "version": "3.11.4"
  }
 },
 "nbformat": 4,
 "nbformat_minor": 2
}
