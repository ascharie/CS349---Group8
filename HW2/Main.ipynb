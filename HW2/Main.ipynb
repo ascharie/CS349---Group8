{
 "cells": [
  {
   "cell_type": "code",
   "execution_count": 62,
   "metadata": {},
   "outputs": [
    {
     "data": {
      "text/plain": [
       "<module 'starter' from 'c:\\\\Users\\\\erica\\\\OneDrive - ETH Zurich\\\\Exchange\\\\Machine Learning\\\\CS349---Group8\\\\HW2\\\\starter.py'>"
      ]
     },
     "execution_count": 62,
     "metadata": {},
     "output_type": "execute_result"
    }
   ],
   "source": [
    "from sklearn.metrics import confusion_matrix, precision_score, recall_score, f1_score, accuracy_score\n",
    "import matplotlib as plt\n",
    "import numpy as np\n",
    "import starter\n",
    "import importlib\n",
    "importlib.reload(starter)"
   ]
  },
  {
   "cell_type": "markdown",
   "metadata": {},
   "source": [
    "## Part I"
   ]
  },
  {
   "cell_type": "code",
   "execution_count": 2,
   "metadata": {},
   "outputs": [],
   "source": [
    "# dimensionality reduction\n",
    "def reduce(train, valid, test, method):\n",
    "    if method == 'pca':\n",
    "        return starter.pca(train, valid, test)\n",
    "    elif method == 'bin':\n",
    "        return starter.binarize(train, valid, test)\n",
    "    elif method == 'none':\n",
    "        return starter.make_float(train, valid, test)\n",
    "    \n",
    "# test model\n",
    "def evaluate_knn(train, query, distance_metric):\n",
    "\n",
    "    labels=['0', '1', '2', '3', '4', '5', '6', '7', '8', '9']\n",
    "    query_labels = [i[0] for i in query]\n",
    "    query_data = [i[1] for i in query]\n",
    "    result_labels = starter.knn(train, query_data, distance_metric)\n",
    "\n",
    "    # performance metrics\n",
    "    query_accuracy = accuracy_score(query_labels, result_labels)\n",
    "    query_precision = precision_score(query_labels, result_labels, average='macro')\n",
    "    query_recall = recall_score(query_labels, result_labels, average='macro')\n",
    "    query_f1 = f1_score(query_labels, result_labels, average='macro')\n",
    "    confusion = confusion_matrix(query_labels, result_labels, labels=labels)\n",
    "\n",
    "    return query_accuracy, query_precision, query_recall, query_f1, confusion"
   ]
  },
  {
   "cell_type": "code",
   "execution_count": 3,
   "metadata": {},
   "outputs": [],
   "source": [
    "mnist_train = starter.read_data('mnist_train.csv')\n",
    "mnist_valid = starter.read_data('mnist_valid.csv')\n",
    "mnist_test = starter.read_data('mnist_test.csv')"
   ]
  },
  {
   "cell_type": "code",
   "execution_count": 47,
   "metadata": {},
   "outputs": [],
   "source": [
    "# reduce dimensionality\n",
    "train, valid, test = reduce(mnist_train, mnist_valid, mnist_test, 'pca')"
   ]
  },
  {
   "cell_type": "markdown",
   "metadata": {},
   "source": [
    "### KNN"
   ]
  },
  {
   "cell_type": "code",
   "execution_count": 55,
   "metadata": {},
   "outputs": [
    {
     "name": "stdout",
     "output_type": "stream",
     "text": [
      "Validation Set Performance\n",
      "Accuracy: 0.85\n",
      "Precision: 0.8586694007746638\n",
      "Recall: 0.8525780318715102\n",
      "F1: 0.8500070140431186\n"
     ]
    }
   ],
   "source": [
    "# test on validation set\n",
    "valid_accuracy, valid_precision, valid_recall, valid_f1, confusion = evaluate_knn(train, valid, 'euclidean')\n",
    "print('Validation Set Performance')\n",
    "print('Accuracy:', valid_accuracy)\n",
    "print('Precision:', valid_precision)\n",
    "print('Recall:', valid_recall)\n",
    "print('F1:', valid_f1)"
   ]
  },
  {
   "cell_type": "code",
   "execution_count": 56,
   "metadata": {},
   "outputs": [
    {
     "name": "stdout",
     "output_type": "stream",
     "text": [
      "Test Set Performance\n",
      "Accuracy: 0.895\n",
      "Precision: 0.89490409233869\n",
      "Recall: 0.885273518878782\n",
      "F1: 0.8849462086495985\n",
      "[[18  0  0  0  0  0  0  0  0  0]\n",
      " [ 0 27  0  0  0  0  0  0  0  0]\n",
      " [ 0  1 16  0  0  0  0  1  1  0]\n",
      " [ 0  0  0 17  0  0  0  0  1  0]\n",
      " [ 0  0  0  0 24  0  0  0  0  1]\n",
      " [ 0  0  0  3  0  8  1  0  1  0]\n",
      " [ 0  0  0  0  0  0 13  0  0  0]\n",
      " [ 0  1  0  0  0  0  0 23  0  0]\n",
      " [ 1  1  1  1  0  1  0  0 15  1]\n",
      " [ 0  2  0  0  1  0  1  0  0 18]]\n"
     ]
    }
   ],
   "source": [
    "# test set performance\n",
    "test_accuracy, test_precision, test_recall, test_f1, confusion = evaluate_knn(train, test, 'euclidean')\n",
    "print('Test Set Performance')\n",
    "print('Accuracy:', test_accuracy)\n",
    "print('Precision:', test_precision)\n",
    "print('Recall:', test_recall)\n",
    "print('F1:', test_f1)\n",
    "\n",
    "print(confusion)"
   ]
  },
  {
   "cell_type": "markdown",
   "metadata": {},
   "source": [
    "### K-Means"
   ]
  },
  {
   "cell_type": "code",
   "execution_count": 63,
   "metadata": {},
   "outputs": [],
   "source": [
    "# labels = [i[0] for i in valid]\n",
    "# data = [i[1] for i in valid]\n",
    "labels = [i[0] for i in train]\n",
    "data = [i[1] for i in train]\n",
    "result_labels = starter.kmeans(train, data, 'euclidean')\n"
   ]
  },
  {
   "cell_type": "code",
   "execution_count": 64,
   "metadata": {},
   "outputs": [
    {
     "name": "stdout",
     "output_type": "stream",
     "text": [
      "{'e': [76, 0, 63, 0, 5, 8, 89, 0, 6, 0], 'd': [0, 0, 6, 12, 16, 3, 0, 125, 8, 53], 'h': [15, 2, 7, 5, 20, 97, 8, 18, 72, 5], 'j': [0, 0, 0, 2, 115, 9, 2, 36, 8, 113], 'a': [0, 0, 1, 1, 41, 1, 3, 7, 7, 14], 'c': [4, 1, 12, 7, 1, 6, 0, 1, 4, 0], 'i': [2, 230, 35, 31, 13, 6, 36, 18, 29, 4], 'f': [77, 0, 2, 0, 4, 4, 24, 0, 0, 0], 'g': [0, 0, 15, 2, 2, 0, 15, 0, 0, 0], 'b': [1, 1, 78, 147, 0, 45, 1, 0, 58, 5]}\n",
      "{'e': 6, 'd': 7, 'h': 5, 'j': 4, 'a': 4, 'c': 2, 'i': 1, 'f': 0, 'g': 2, 'b': 3}\n"
     ]
    }
   ],
   "source": [
    "unique_result_labels = set(result_labels)\n",
    "counts = {result_label: [0 for integer in range(10)] for result_label in unique_result_labels}\n",
    "for result_label, label in zip(result_labels, labels):\n",
    "    counts[result_label][int(label)] += 1\n",
    "mapping = {result_label: np.argmax(count) for result_label, count in counts.items()}\n",
    "print(counts)\n",
    "print(mapping)"
   ]
  }
 ],
 "metadata": {
  "kernelspec": {
   "display_name": "Python 3",
   "language": "python",
   "name": "python3"
  },
  "language_info": {
   "codemirror_mode": {
    "name": "ipython",
    "version": 3
   },
   "file_extension": ".py",
   "mimetype": "text/x-python",
   "name": "python",
   "nbconvert_exporter": "python",
   "pygments_lexer": "ipython3",
   "version": "3.12.2"
  }
 },
 "nbformat": 4,
 "nbformat_minor": 2
}
