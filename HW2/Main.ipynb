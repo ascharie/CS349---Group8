{
 "cells": [
  {
   "cell_type": "code",
   "execution_count": 58,
   "metadata": {},
   "outputs": [
    {
     "data": {
      "text/plain": [
       "<module 'starter' from '/Users/chelseytao/CS349---Group8/HW2/starter.py'>"
      ]
     },
     "execution_count": 58,
     "metadata": {},
     "output_type": "execute_result"
    }
   ],
   "source": [
    "from sklearn.metrics import confusion_matrix, precision_score, recall_score, f1_score, accuracy_score\n",
    "import matplotlib as plt\n",
    "import numpy as np\n",
    "import random\n",
    "import starter\n",
    "import importlib\n",
    "importlib.reload(starter)"
   ]
  },
  {
   "cell_type": "markdown",
   "metadata": {},
   "source": [
    "## Part I"
   ]
  },
  {
   "cell_type": "code",
   "execution_count": 9,
   "metadata": {},
   "outputs": [],
   "source": [
    "# dimensionality reduction\n",
    "def reduce(train, valid, test, method, var):\n",
    "    if method == 'pca':\n",
    "        return starter.pca(train, valid, test, var)\n",
    "    elif method == 'bin':\n",
    "        return starter.binarize(train, valid, test)\n",
    "    elif method == 'none':\n",
    "        return starter.make_float(train, valid, test)"
   ]
  },
  {
   "cell_type": "code",
   "execution_count": 10,
   "metadata": {},
   "outputs": [],
   "source": [
    "mnist_train = starter.read_data('mnist_train.csv')\n",
    "mnist_valid = starter.read_data('mnist_valid.csv')\n",
    "mnist_test = starter.read_data('mnist_test.csv')"
   ]
  },
  {
   "cell_type": "markdown",
   "metadata": {},
   "source": [
    "### KNN"
   ]
  },
  {
   "cell_type": "code",
   "execution_count": 14,
   "metadata": {},
   "outputs": [
    {
     "name": "stdout",
     "output_type": "stream",
     "text": [
      "Reduced dimensionality by 631 columns\n"
     ]
    }
   ],
   "source": [
    "# reduce dimensionality\n",
    "dimensionality_reduction = 'pca'\n",
    "retained_variance = 0.90 # only used for pca\n",
    "train, valid, test = reduce(mnist_train, mnist_valid, mnist_test, dimensionality_reduction, retained_variance)\n",
    "print('Reduced dimensionality by', len(mnist_train[0][1]) - len(train[0][1]), 'columns')"
   ]
  },
  {
   "cell_type": "code",
   "execution_count": 15,
   "metadata": {},
   "outputs": [],
   "source": [
    "# evaluate the knn\n",
    "def evaluate_knn(train, query, distance_metric):\n",
    "\n",
    "    labels=['0', '1', '2', '3', '4', '5', '6', '7', '8', '9']\n",
    "    query_labels = [i[0] for i in query]\n",
    "    query_data = [i[1] for i in query]\n",
    "    result_labels = starter.knn(train, query_data, distance_metric)\n",
    "\n",
    "    # performance metrics\n",
    "    query_accuracy = accuracy_score(query_labels, result_labels)\n",
    "    # average='macro' takes the arithmetic mean of individual classes' scores\n",
    "    query_precision = precision_score(query_labels, result_labels, average='macro')\n",
    "    query_recall = recall_score(query_labels, result_labels, average='macro')\n",
    "    query_f1 = f1_score(query_labels, result_labels, average='macro')\n",
    "    confusion = confusion_matrix(query_labels, result_labels, labels=labels)\n",
    "\n",
    "    return query_accuracy, query_precision, query_recall, query_f1, confusion"
   ]
  },
  {
   "cell_type": "code",
   "execution_count": 16,
   "metadata": {},
   "outputs": [
    {
     "name": "stdout",
     "output_type": "stream",
     "text": [
      "Validation Set Performance\n",
      "Accuracy: 0.83\n",
      "Precision: 0.8305262487770229\n",
      "Recall: 0.8328349488675576\n",
      "F1: 0.8262261449538295\n"
     ]
    }
   ],
   "source": [
    "# test on validation set\n",
    "valid_accuracy, valid_precision, valid_recall, valid_f1, confusion = evaluate_knn(train, valid, 'euclidean')\n",
    "print('Validation Set Performance')\n",
    "print('Accuracy:', valid_accuracy)\n",
    "print('Precision:', valid_precision)\n",
    "print('Recall:', valid_recall)\n",
    "print('F1:', valid_f1)"
   ]
  },
  {
   "cell_type": "code",
   "execution_count": 17,
   "metadata": {},
   "outputs": [
    {
     "name": "stdout",
     "output_type": "stream",
     "text": [
      "Test Set Performance\n",
      "Accuracy: 0.885\n",
      "Precision: 0.892714608371754\n",
      "Recall: 0.8834487559224401\n",
      "F1: 0.8857523531600611\n",
      "[[17  0  1  0  0  0  0  0  0  0]\n",
      " [ 0 27  0  0  0  0  0  0  0  0]\n",
      " [ 0  1 15  0  1  0  0  1  1  0]\n",
      " [ 0  0  2 15  0  0  0  0  1  0]\n",
      " [ 0  0  0  0 23  0  0  1  0  1]\n",
      " [ 0  0  0  1  0 11  0  0  1  0]\n",
      " [ 0  0  0  0  0  0 13  0  0  0]\n",
      " [ 0  1  0  0  1  0  0 22  0  0]\n",
      " [ 1  0  0  1  0  1  0  0 18  0]\n",
      " [ 1  2  0  0  1  0  0  2  0 16]]\n"
     ]
    }
   ],
   "source": [
    "# test set performance\n",
    "test_accuracy, test_precision, test_recall, test_f1, confusion = evaluate_knn(train, test, 'euclidean')\n",
    "print('Test Set Performance')\n",
    "print('Accuracy:', test_accuracy)\n",
    "print('Precision:', test_precision)\n",
    "print('Recall:', test_recall)\n",
    "print('F1:', test_f1)\n",
    "\n",
    "print(confusion)"
   ]
  },
  {
   "cell_type": "markdown",
   "metadata": {},
   "source": [
    "### K-Means"
   ]
  },
  {
   "cell_type": "code",
   "execution_count": 18,
   "metadata": {},
   "outputs": [
    {
     "name": "stdout",
     "output_type": "stream",
     "text": [
      "Reduced dimensionality by 331 columns\n"
     ]
    }
   ],
   "source": [
    "# reduce dimensionality\n",
    "dimensionality_reduction = 'pca'\n",
    "retained_variance = 0.995 # only used for pca\n",
    "train, valid, test = reduce(mnist_train, mnist_valid, mnist_test, dimensionality_reduction, retained_variance)\n",
    "print('Reduced dimensionality by', len(mnist_train[0][1]) - len(train[0][1]), 'columns')"
   ]
  },
  {
   "cell_type": "code",
   "execution_count": 19,
   "metadata": {},
   "outputs": [],
   "source": [
    "# train association of k-means clusters with digits\n",
    "def associate_clusters(result_labels, labels):\n",
    "    unique_result_labels = set(result_labels)\n",
    "    counts = {result_label: [0 for integer in range(10)] for result_label in unique_result_labels}\n",
    "    for result_label, label in zip(result_labels, labels):\n",
    "        counts[result_label][int(label)] += 1\n",
    "    mapping = {result_label: str(np.argmax(count)) for result_label, count in counts.items()}\n",
    "\n",
    "    return mapping\n",
    "\n",
    "def performance_kmeans(result_labels, labels):\n",
    "    # performance metrics\n",
    "    accuracy = accuracy_score(labels, result_labels)\n",
    "    # average='macro' takes the arithmetic mean of individual classes' scores\n",
    "    precision = precision_score(labels, result_labels, average='macro')\n",
    "    recall = recall_score(labels, result_labels, average='macro')\n",
    "    f1 = f1_score(labels, result_labels, average='macro')\n",
    "    confusion = confusion_matrix(labels, result_labels, labels=['0', '1', '2', '3', '4', '5', '6', '7', '8', '9'])\n",
    "\n",
    "    return accuracy, precision, recall, f1, confusion"
   ]
  },
  {
   "cell_type": "code",
   "execution_count": 20,
   "metadata": {},
   "outputs": [],
   "source": [
    "# train k-means\n",
    "train_data = [i[1] for i in train]\n",
    "train_labels = [i[0] for i in train]\n",
    "k = 30\n",
    "cluster_labels = [chr(ord('a') + i) for i in range(k)]\n",
    "random_cluster_means = random.sample(train_data, k) # initialize initial means randomly\n",
    "initial_guess = [[cluster_labels[i], random_cluster_means[i]] for i in range(k)]\n",
    "trained_means = starter.kmeans_train(train_data, 'euclidean', initial_guess)\n",
    "\n",
    "# evaluate k-means train data\n",
    "train_result_labels = starter.kmeans_evaluate(train_data, trained_means, 'euclidean')\n",
    "\n",
    "# train association function\n",
    "mapping = associate_clusters(train_result_labels, train_labels)"
   ]
  },
  {
   "cell_type": "code",
   "execution_count": 64,
   "metadata": {},
   "outputs": [
    {
     "name": "stdout",
     "output_type": "stream",
     "text": [
      "Validation Set Performance\n",
      "Accuracy: 0.595\n",
      "Precision: 0.6249397365891792\n",
      "Recall: 0.6019263285024155\n",
      "F1: 0.5929581992541278\n",
      "\n",
      "\n"
     ]
    }
   ],
   "source": [
    "# evaluate k-means on validation set\n",
    "valid_data = [i[1] for i in valid]\n",
    "valid_labels = [i[0] for i in valid]\n",
    "valid_result_labels = starter.kmeans_evaluate(valid_data, trained_means, 'euclidean')\n",
    "valid_result_labels_mapped = [mapping[label] for label in valid_result_labels]\n",
    "# check performance\n",
    "valid_accuracy, valid_precision, valid_recall, valid_f1, confusion = performance_kmeans(valid_result_labels_mapped, valid_labels)\n",
    "print('Validation Set Performance')\n",
    "print('Accuracy:', valid_accuracy)\n",
    "print('Precision:', valid_precision)\n",
    "print('Recall:', valid_recall)\n",
    "print('F1:', valid_f1)\n",
    "print('\\n')"
   ]
  },
  {
   "cell_type": "code",
   "execution_count": 65,
   "metadata": {},
   "outputs": [
    {
     "name": "stdout",
     "output_type": "stream",
     "text": [
      "Test Set Performance\n",
      "Accuracy: 0.675\n",
      "Precision: 0.6881093857832987\n",
      "Recall: 0.6625137425926899\n",
      "F1: 0.6576570280127599\n",
      "[[14  0  1  1  1  0  1  0  0  0]\n",
      " [ 0 23  1  0  0  0  1  0  2  0]\n",
      " [ 0  0 12  2  0  0  1  1  3  0]\n",
      " [ 0  1  1 13  1  0  0  0  2  0]\n",
      " [ 0  0  2  0 16  0  0  2  0  5]\n",
      " [ 0  0  0  5  1  3  0  0  3  1]\n",
      " [ 0  0  2  0  0  0 11  0  0  0]\n",
      " [ 1  0  0  1  0  1  0 17  2  2]\n",
      " [ 1  0  0  1  1  0  1  1 16  0]\n",
      " [ 0  1  1  0  8  0  0  2  0 10]]\n"
     ]
    }
   ],
   "source": [
    "# evaluate k-means on test set\n",
    "test_data = [i[1] for i in test]\n",
    "test_labels = [i[0] for i in test]\n",
    "test_result_labels = starter.kmeans_evaluate(test_data, trained_means, 'euclidean')\n",
    "test_result_labels_mapped = [mapping[label] for label in test_result_labels]\n",
    "# check performance\n",
    "test_accuracy, test_precision, test_recall, test_f1, confusion = performance_kmeans(test_result_labels_mapped, test_labels)\n",
    "print('Test Set Performance')\n",
    "print('Accuracy:', test_accuracy)\n",
    "print('Precision:', test_precision)\n",
    "print('Recall:', test_recall)\n",
    "print('F1:', test_f1)\n",
    "print(confusion)"
   ]
  },
  {
   "cell_type": "markdown",
   "metadata": {},
   "source": [
    "### Part 2"
   ]
  },
  {
   "cell_type": "markdown",
   "metadata": {},
   "source": [
    "## Q1 movie rating collaborative filter"
   ]
  },
  {
   "cell_type": "code",
   "execution_count": 38,
   "metadata": {},
   "outputs": [
    {
     "name": "stdout",
     "output_type": "stream",
     "text": [
      "Recommendations for user a: ['50', '258', '286', '100', '300', '288', '181', '127', '313', '302', '294', '269', '1', '237', '117', '748', '7', '328', '121', '276', '257', '268', '333', '222', '275', '15', '98', '9', '56', '174', '301', '272', '289', '245', '340', '405', '475', '318', '323', '307', '742', '327', '25', '111', '151', '172', '315', '282', '322', '118', '298', '326', '515', '271', '508', '285', '690', '273', '79', '124', '678', '471', '64', '751', '321', '12', '332', '303', '14', '255', '173', '125', '310', '304', '137', '750', '319', '242', '22', '270', '250', '357', '293', '591', '346', '597', '879', '483', '347', '292', '210', '274', '283', '96', '331', '150', '168', '845', '204', '69']\n",
      "Ground truth for validation (user a): {'184': 1.0, '1193': 1.0, '1560': 1.0, '1206': 1.0, '802': 1.0, '1471': 1.0, '939': 5.0, '1063': 5.0, '537': 1.0, '520': 2.0, '1553': 1.0, '1517': 1.0, '199': 1.0, '1559': 1.0, '1032': 1.0, '415': 2.0, '645': 1.0, '461': 3.0, '807': 1.0, '82': 4.0, '779': 1.0, '1146': 2.0, '403': 5.0, '509': 1.0, '22': 5.0, '1404': 1.0, '5': 4.0, '1484': 1.0, '1031': 1.0, '94': 5.0, '1576': 1.0, '1437': 1.0, '739': 2.0, '586': 4.0, '200': 2.0, '1078': 1.0, '364': 1.0, '391': 1.0, '376': 5.0, '786': 1.0, '515': 1.0, '132': 5.0, '1249': 1.0, '562': 1.0, '215': 5.0, '63': 3.0, '1569': 1.0, '1568': 1.0, '716': 1.0, '383': 1.0, '388': 4.0, '1399': 1.0, '798': 1.0, '1408': 1.0, '52': 1.0, '233': 1.0, '1224': 1.0, '1359': 1.0, '584': 1.0, '195': 5.0, '234': 5.0, '219': 5.0, '661': 3.0, '549': 1.0, '523': 2.0, '585': 1.0, '482': 3.0, '347': 4.0, '58': 1.0, '149': 1.0, '75': 2.0, '356': 5.0, '810': 1.0, '603': 3.0, '1222': 1.0, '567': 2.0, '536': 1.0, '57': 1.0, '379': 1.0, '1474': 1.0, '712': 1.0, '1225': 1.0, '1583': 1.0, '577': 3.0, '1053': 5.0, '55': 1.0, '1468': 1.0, '433': 4.0, '842': 5.0, '1091': 1.0, '83': 1.0, '561': 1.0, '48': 1.0, '694': 1.0, '1072': 1.0, '1037': 3.0, '944': 3.0, '204': 5.0, '201': 1.0, '1438': 1.0, '553': 1.0, '1030': 1.0, '558': 1.0, '1394': 1.0, '516': 1.0, '849': 1.0, '774': 1.0, '97': 2.0, '853': 1.0, '23': 5.0, '1570': 1.0, '697': 1.0, '808': 1.0, '783': 2.0, '1232': 1.0, '679': 1.0, '642': 1.0, '37': 1.0, '843': 2.0, '447': 4.0, '666': 1.0, '193': 4.0, '8': 4.0, '1103': 2.0, '1070': 1.0, '684': 3.0, '1219': 1.0, '784': 1.0, '1044': 4.0, '480': 4.0, '12': 5.0, '790': 1.0, '101': 1.0, '448': 4.0, '1271': 2.0, '143': 5.0, '1036': 1.0, '1415': 1.0, '1405': 1.0, '81': 3.0, '859': 1.0, '960': 1.0, '1407': 1.0, '736': 5.0, '464': 1.0, '238': 5.0, '1107': 1.0, '377': 1.0, '1572': 1.0, '1218': 5.0, '770': 1.0, '851': 1.0, '1441': 1.0, '438': 1.0, '659': 4.0, '1147': 2.0, '745': 1.0, '45': 1.0, '351': 1.0, '794': 5.0, '317': 4.0, '563': 1.0, '441': 1.0, '61': 1.0, '1548': 1.0, '439': 1.0, '674': 1.0, '91': 2.0, '1297': 1.0, '173': 5.0, '420': 5.0, '1499': 1.0, '955': 1.0, '1195': 1.0, '367': 1.0, '564': 1.0, '402': 3.0, '566': 1.0, '1229': 1.0, '218': 5.0, '1065': 1.0, '816': 1.0, '1228': 1.0, '782': 1.0, '139': 3.0, '208': 5.0, '434': 3.0, '180': 3.0, '80': 1.0, '384': 3.0, '64': 5.0, '715': 1.0, '675': 1.0, '921': 1.0, '42': 1.0, '231': 3.0, '728': 4.0, '29': 4.0, '1021': 1.0}\n",
      "Validation for user a - Precision: 0.8571428571428571, Recall: 0.13953488372093023, F1-score: 0.24\n",
      "Test for user a - Precision: 0.7777777777777778, Recall: 0.25925925925925924, F1-score: 0.3888888888888889\n"
     ]
    }
   ],
   "source": [
    "movielens_ratings = starter.read_ratings('movielens.txt')\n",
    "train_ratings_a = starter.read_ratings('train_a.txt')\n",
    "valid_ratings_a = starter.read_ratings('valid_a.txt')\n",
    "test_ratings_a = starter.read_ratings('test_a.txt')\n",
    "\n",
    "\"\"\"\n",
    "Observations:\n",
    "Higher M leads to higher recall and lower precision\n",
    "Lower M leads to lower recall and higher precision\n",
    "\"\"\"\n",
    "\n",
    "K = 500  # Number of similar users\n",
    "M = 100 # Number of movies to recommend\n",
    "A_userid = \"405\"\n",
    "B_userid = \"655\"\n",
    "C_userid = \"13\"\n",
    "\n",
    "similar_users_a = starter.get_similar_users(train_ratings_a, movielens_ratings, A_userid, \"euclidean\", K)\n",
    "recommendations_a = starter.recommend_movies(movielens_ratings, A_userid, similar_users_a, M)\n",
    "\n",
    "print(f\"Recommendations for user a: {recommendations_a}\")\n",
    "\n",
    "ground_truth_valid_a = valid_ratings_a[A_userid]\n",
    "print(f\"Ground truth for validation (user a): {ground_truth_valid_a}\")\n",
    "precision, recall, f1 = starter.evaluate(recommendations_a, ground_truth_valid_a)\n",
    "print(f'Validation for user a - Precision: {precision}, Recall: {recall}, F1-score: {f1}')\n",
    "\n",
    "ground_truth_test_a = test_ratings_a[A_userid]\n",
    "precision, recall, f1 = starter.evaluate(recommendations_a, ground_truth_test_a)\n",
    "print(f'Test for user a - Precision: {precision}, Recall: {recall}, F1-score: {f1}')\n",
    "\n",
    "# #for users b\n",
    "# train_ratings_b = starter.read_ratings('train_b.txt')\n",
    "# valid_ratings_b = starter.read_ratings('valid_b.txt')\n",
    "# test_ratings_b = starter.read_ratings('test_b.txt')\n",
    "\n",
    "# similar_users_b = starter.get_similar_users(train_ratings_b, movielens_ratings, B_userid, \"euclidean\", K)\n",
    "# recommendations_b = starter.recommend_movies(movielens_ratings, B_userid, similar_users_b, M)\n",
    "\n",
    "# ground_truth_valid_b = valid_ratings_b[B_userid]\n",
    "# precision, recall, f1 = starter.evaluate(recommendations_b, ground_truth_valid_b)\n",
    "# print(f'Validation for user b - Precision: {precision}, Recall: {recall}, F1-score: {f1}')\n",
    "\n",
    "# ground_truth_test_b = test_ratings_b[B_userid]\n",
    "# precision, recall, f1 = starter.evaluate(recommendations_b, ground_truth_test_b)\n",
    "# print(f'Test for user b - Precision: {precision}, Recall: {recall}, F1-score: {f1}')\n",
    "\n",
    "# #for users c\n",
    "# train_ratings_c = starter.read_ratings('train_c.txt')\n",
    "# valid_ratings_c = starter.read_ratings('valid_c.txt')\n",
    "# test_ratings_c = starter.read_ratings('test_c.txt')\n",
    "\n",
    "# similar_users_c = starter.get_similar_users(train_ratings_c, movielens_ratings, C_userid, \"euclidean\", K)\n",
    "# recommendations_c = starter.recommend_movies(movielens_ratings, C_userid, similar_users_c, M)\n",
    "\n",
    "# ground_truth_valid_c = valid_ratings_c[C_userid]\n",
    "# precision, recall, f1 = starter.evaluate(recommendations_c, ground_truth_valid_c)\n",
    "# print(f'Validation for user c - Precision: {precision}, Recall: {recall}, F1-score: {f1}')\n",
    "\n",
    "# ground_truth_test_c = test_ratings_c[C_userid]\n",
    "# precision, recall, f1 = starter.evaluate(recommendations_c, ground_truth_test_c)\n",
    "# print(f'Test for user c - Precision: {precision}, Recall: {recall}, F1-score: {f1}')"
   ]
  },
  {
   "cell_type": "markdown",
   "metadata": {},
   "source": [
    "## Q2 improved collaborative filter with other attributes (age and gender) (with normalization)"
   ]
  },
  {
   "cell_type": "code",
   "execution_count": 59,
   "metadata": {},
   "outputs": [
    {
     "name": "stdout",
     "output_type": "stream",
     "text": [
      "Recommendations for user a: ['258', '286', '300', '50', '313', '100', '288', '294', '302', '269', '181', '1', '127', '237', '328', '117', '748', '276', '333', '268', '121', '7', '272', '257', '9', '222', '15', '275', '301', '245', '475', '340', '307', '315', '289', '405', '151', '323', '322', '327', '742', '25', '326', '508', '690', '271', '118', '285', '124', '282', '471', '14', '298', '111', '310', '98', '515', '332', '304', '125', '321', '750', '751', '56', '303', '273', '242', '270', '319', '678', '292', '174', '318', '137', '316', '346', '347', '879', '147', '293', '331', '150', '255', '250', '172', '591', '546', '64', '283', '597', '306', '246', '259', '79', '12', '305', '845', '324', '274', '628']\n",
      "Ground truth for validation (user a): {'184': 1.0, '1193': 1.0, '1560': 1.0, '1206': 1.0, '802': 1.0, '1471': 1.0, '939': 5.0, '1063': 5.0, '537': 1.0, '520': 2.0, '1553': 1.0, '1517': 1.0, '199': 1.0, '1559': 1.0, '1032': 1.0, '415': 2.0, '645': 1.0, '461': 3.0, '807': 1.0, '82': 4.0, '779': 1.0, '1146': 2.0, '403': 5.0, '509': 1.0, '22': 5.0, '1404': 1.0, '5': 4.0, '1484': 1.0, '1031': 1.0, '94': 5.0, '1576': 1.0, '1437': 1.0, '739': 2.0, '586': 4.0, '200': 2.0, '1078': 1.0, '364': 1.0, '391': 1.0, '376': 5.0, '786': 1.0, '515': 1.0, '132': 5.0, '1249': 1.0, '562': 1.0, '215': 5.0, '63': 3.0, '1569': 1.0, '1568': 1.0, '716': 1.0, '383': 1.0, '388': 4.0, '1399': 1.0, '798': 1.0, '1408': 1.0, '52': 1.0, '233': 1.0, '1224': 1.0, '1359': 1.0, '584': 1.0, '195': 5.0, '234': 5.0, '219': 5.0, '661': 3.0, '549': 1.0, '523': 2.0, '585': 1.0, '482': 3.0, '347': 4.0, '58': 1.0, '149': 1.0, '75': 2.0, '356': 5.0, '810': 1.0, '603': 3.0, '1222': 1.0, '567': 2.0, '536': 1.0, '57': 1.0, '379': 1.0, '1474': 1.0, '712': 1.0, '1225': 1.0, '1583': 1.0, '577': 3.0, '1053': 5.0, '55': 1.0, '1468': 1.0, '433': 4.0, '842': 5.0, '1091': 1.0, '83': 1.0, '561': 1.0, '48': 1.0, '694': 1.0, '1072': 1.0, '1037': 3.0, '944': 3.0, '204': 5.0, '201': 1.0, '1438': 1.0, '553': 1.0, '1030': 1.0, '558': 1.0, '1394': 1.0, '516': 1.0, '849': 1.0, '774': 1.0, '97': 2.0, '853': 1.0, '23': 5.0, '1570': 1.0, '697': 1.0, '808': 1.0, '783': 2.0, '1232': 1.0, '679': 1.0, '642': 1.0, '37': 1.0, '843': 2.0, '447': 4.0, '666': 1.0, '193': 4.0, '8': 4.0, '1103': 2.0, '1070': 1.0, '684': 3.0, '1219': 1.0, '784': 1.0, '1044': 4.0, '480': 4.0, '12': 5.0, '790': 1.0, '101': 1.0, '448': 4.0, '1271': 2.0, '143': 5.0, '1036': 1.0, '1415': 1.0, '1405': 1.0, '81': 3.0, '859': 1.0, '960': 1.0, '1407': 1.0, '736': 5.0, '464': 1.0, '238': 5.0, '1107': 1.0, '377': 1.0, '1572': 1.0, '1218': 5.0, '770': 1.0, '851': 1.0, '1441': 1.0, '438': 1.0, '659': 4.0, '1147': 2.0, '745': 1.0, '45': 1.0, '351': 1.0, '794': 5.0, '317': 4.0, '563': 1.0, '441': 1.0, '61': 1.0, '1548': 1.0, '439': 1.0, '674': 1.0, '91': 2.0, '1297': 1.0, '173': 5.0, '420': 5.0, '1499': 1.0, '955': 1.0, '1195': 1.0, '367': 1.0, '564': 1.0, '402': 3.0, '566': 1.0, '1229': 1.0, '218': 5.0, '1065': 1.0, '816': 1.0, '1228': 1.0, '782': 1.0, '139': 3.0, '208': 5.0, '434': 3.0, '180': 3.0, '80': 1.0, '384': 3.0, '64': 5.0, '715': 1.0, '675': 1.0, '921': 1.0, '42': 1.0, '231': 3.0, '728': 4.0, '29': 4.0, '1021': 1.0}\n",
      "Validation for user a - Precision: 0.75, Recall: 0.06976744186046512, F1-score: 0.1276595744680851\n",
      "Test for user a - Precision: 0.8333333333333334, Recall: 0.18518518518518517, F1-score: 0.303030303030303\n"
     ]
    }
   ],
   "source": [
    "movielens_ratings, movielens_userdata, movielens_original, movielens_genres = starter.read_more_data('movielens.txt')\n",
    "train_ratings_a, train_userdata_a, train_original_a, train_genres_a = starter.read_more_data('train_a.txt')\n",
    "valid_ratings_a, valid_userdata_a, valid_original_a, valid_genres_a = starter.read_more_data('valid_a.txt')\n",
    "test_ratings_a, test_userdata_a, test_original_a, test_genres_a = starter.read_more_data('test_a.txt')\n",
    "\n",
    "\"\"\"\n",
    "Observations:\n",
    "Higher M leads to higher recall and lower precision\n",
    "Lower M leads to lower recall and higher precision\n",
    "\n",
    "with improved similarity function, the precision is higher\n",
    "\"\"\"\n",
    "\n",
    "K = 500  # Number of similar users\n",
    "M = 100 # Number of movies to recommend\n",
    "A_userid = \"405\"\n",
    "B_userid = \"655\"\n",
    "C_userid = \"13\"\n",
    "\n",
    "similar_users_a = starter.get_similar_users_improved(train_ratings_a, movielens_ratings, train_userdata_a, movielens_userdata, train_genres_a, movielens_genres, A_userid, \"euclidean\", K)\n",
    "recommendations_a = starter.recommend_movies(movielens_ratings, A_userid, similar_users_a, M)\n",
    "\n",
    "print(f\"Recommendations for user a: {recommendations_a}\")\n",
    "\n",
    "ground_truth_valid_a = valid_original_a[A_userid]\n",
    "print(f\"Ground truth for validation (user a): {ground_truth_valid_a}\")\n",
    "precision, recall, f1 = starter.evaluate(recommendations_a, ground_truth_valid_a)\n",
    "print(f'Validation for user a - Precision: {precision}, Recall: {recall}, F1-score: {f1}')\n",
    "\n",
    "ground_truth_test_a = test_original_a[A_userid]\n",
    "precision, recall, f1 = starter.evaluate(recommendations_a, ground_truth_test_a)\n",
    "print(f'Test for user a - Precision: {precision}, Recall: {recall}, F1-score: {f1}')"
   ]
  }
 ],
 "metadata": {
  "kernelspec": {
   "display_name": "base",
   "language": "python",
   "name": "python3"
  },
  "language_info": {
   "codemirror_mode": {
    "name": "ipython",
    "version": 3
   },
   "file_extension": ".py",
   "mimetype": "text/x-python",
   "name": "python",
   "nbconvert_exporter": "python",
   "pygments_lexer": "ipython3",
   "version": "3.11.7"
  }
 },
 "nbformat": 4,
 "nbformat_minor": 2
}
