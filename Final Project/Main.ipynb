{
 "cells": [
  {
   "cell_type": "code",
   "execution_count": 105,
   "metadata": {},
   "outputs": [],
   "source": [
    "# import packages\n",
    "import importlib\n",
    "import numpy as np\n",
    "import pandas as pd\n",
    "import matplotlib.pyplot as plt # import plotting module\n",
    "from sklearn.preprocessing import StandardScaler, OneHotEncoder, LabelEncoder # import preprocessing modules\n",
    "from sklearn.compose import ColumnTransformer # import column transformer class\n",
    "import sklearn.model_selection as train_test_split # import method for splitting data into training and testing sets\n",
    "from sklearn.metrics import confusion_matrix, precision_score, recall_score, f1_score, accuracy_score, matthews_corrcoef # import metrics\n",
    "from sklearn.utils.class_weight import compute_class_weight\n",
    "from sklearn.tree import DecisionTreeClassifier # import decision tree classifier\n",
    "from sklearn.ensemble import RandomForestClassifier # import random forest classifier\n",
    "from sklearn.neighbors import KNeighborsClassifier # import k-nearest neighbors classifier\n",
    "import torch # import pytorch\n",
    "import torch.nn as nn # import pytorch for neural networks\n",
    "from torch.utils.data import DataLoader, Dataset # import dataset and dataloader classes\n",
    "\n",
    "\n",
    "# import modules\n",
    "import classify\n",
    "\n",
    "# check if gpu is available\n",
    "device = torch.device('cuda' if torch.cuda.is_available() else 'cpu')"
   ]
  },
  {
   "cell_type": "markdown",
   "metadata": {},
   "source": [
    "## 1 - Dataset"
   ]
  },
  {
   "cell_type": "code",
   "execution_count": 82,
   "metadata": {},
   "outputs": [
    {
     "data": {
      "text/html": [
       "<div>\n",
       "<style scoped>\n",
       "    .dataframe tbody tr th:only-of-type {\n",
       "        vertical-align: middle;\n",
       "    }\n",
       "\n",
       "    .dataframe tbody tr th {\n",
       "        vertical-align: top;\n",
       "    }\n",
       "\n",
       "    .dataframe thead th {\n",
       "        text-align: right;\n",
       "    }\n",
       "</style>\n",
       "<table border=\"1\" class=\"dataframe\">\n",
       "  <thead>\n",
       "    <tr style=\"text-align: right;\">\n",
       "      <th></th>\n",
       "      <th>UDI</th>\n",
       "      <th>Product ID</th>\n",
       "      <th>Type</th>\n",
       "      <th>Air temperature [K]</th>\n",
       "      <th>Process temperature [K]</th>\n",
       "      <th>Rotational speed [rpm]</th>\n",
       "      <th>Torque [Nm]</th>\n",
       "      <th>Tool wear [min]</th>\n",
       "      <th>Machine failure</th>\n",
       "      <th>TWF</th>\n",
       "      <th>HDF</th>\n",
       "      <th>PWF</th>\n",
       "      <th>OSF</th>\n",
       "      <th>RNF</th>\n",
       "    </tr>\n",
       "  </thead>\n",
       "  <tbody>\n",
       "    <tr>\n",
       "      <th>0</th>\n",
       "      <td>1</td>\n",
       "      <td>M14860</td>\n",
       "      <td>M</td>\n",
       "      <td>298.1</td>\n",
       "      <td>308.6</td>\n",
       "      <td>1551</td>\n",
       "      <td>42.8</td>\n",
       "      <td>0</td>\n",
       "      <td>0</td>\n",
       "      <td>0</td>\n",
       "      <td>0</td>\n",
       "      <td>0</td>\n",
       "      <td>0</td>\n",
       "      <td>0</td>\n",
       "    </tr>\n",
       "    <tr>\n",
       "      <th>1</th>\n",
       "      <td>2</td>\n",
       "      <td>L47181</td>\n",
       "      <td>L</td>\n",
       "      <td>298.2</td>\n",
       "      <td>308.7</td>\n",
       "      <td>1408</td>\n",
       "      <td>46.3</td>\n",
       "      <td>3</td>\n",
       "      <td>0</td>\n",
       "      <td>0</td>\n",
       "      <td>0</td>\n",
       "      <td>0</td>\n",
       "      <td>0</td>\n",
       "      <td>0</td>\n",
       "    </tr>\n",
       "    <tr>\n",
       "      <th>2</th>\n",
       "      <td>3</td>\n",
       "      <td>L47182</td>\n",
       "      <td>L</td>\n",
       "      <td>298.1</td>\n",
       "      <td>308.5</td>\n",
       "      <td>1498</td>\n",
       "      <td>49.4</td>\n",
       "      <td>5</td>\n",
       "      <td>0</td>\n",
       "      <td>0</td>\n",
       "      <td>0</td>\n",
       "      <td>0</td>\n",
       "      <td>0</td>\n",
       "      <td>0</td>\n",
       "    </tr>\n",
       "  </tbody>\n",
       "</table>\n",
       "</div>"
      ],
      "text/plain": [
       "   UDI Product ID Type  Air temperature [K]  Process temperature [K]  \\\n",
       "0    1     M14860    M                298.1                    308.6   \n",
       "1    2     L47181    L                298.2                    308.7   \n",
       "2    3     L47182    L                298.1                    308.5   \n",
       "\n",
       "   Rotational speed [rpm]  Torque [Nm]  Tool wear [min]  Machine failure  TWF  \\\n",
       "0                    1551         42.8                0                0    0   \n",
       "1                    1408         46.3                3                0    0   \n",
       "2                    1498         49.4                5                0    0   \n",
       "\n",
       "   HDF  PWF  OSF  RNF  \n",
       "0    0    0    0    0  \n",
       "1    0    0    0    0  \n",
       "2    0    0    0    0  "
      ]
     },
     "metadata": {},
     "output_type": "display_data"
    },
    {
     "name": "stdout",
     "output_type": "stream",
     "text": [
      "Shape of data: (10000, 14)\n"
     ]
    }
   ],
   "source": [
    "# read in data\n",
    "data = pd.read_csv('./Data/ai4i2020.csv')\n",
    "data_columns = ['UDI', 'Product ID', 'Type', 'Air temperature [K]', 'Process temperature [K]', 'Rotational speed [rpm]', 'Torque [Nm]', 'Tool wear [min]']\n",
    "label_columns = ['Machine failure', 'TWF', 'HDF', 'PWF', 'OSF', 'RNF']\n",
    "# identify features and labels\n",
    "numeric_features = ['Air temperature [K]', 'Process temperature [K]', 'Rotational speed [rpm]', 'Torque [Nm]', 'Tool wear [min]']\n",
    "categorical_features = ['Type']\n",
    "bin_labels = label_columns.copy()\n",
    "display(data.head(3))\n",
    "print('Shape of data:', data.shape)"
   ]
  },
  {
   "cell_type": "markdown",
   "metadata": {},
   "source": [
    "### Exploratory Data Analysis"
   ]
  },
  {
   "cell_type": "markdown",
   "metadata": {},
   "source": [
    "#### General Statistics"
   ]
  },
  {
   "cell_type": "code",
   "execution_count": 83,
   "metadata": {},
   "outputs": [
    {
     "name": "stdout",
     "output_type": "stream",
     "text": [
      "Numeric Feature Columns\n"
     ]
    },
    {
     "data": {
      "text/html": [
       "<div>\n",
       "<style scoped>\n",
       "    .dataframe tbody tr th:only-of-type {\n",
       "        vertical-align: middle;\n",
       "    }\n",
       "\n",
       "    .dataframe tbody tr th {\n",
       "        vertical-align: top;\n",
       "    }\n",
       "\n",
       "    .dataframe thead th {\n",
       "        text-align: right;\n",
       "    }\n",
       "</style>\n",
       "<table border=\"1\" class=\"dataframe\">\n",
       "  <thead>\n",
       "    <tr style=\"text-align: right;\">\n",
       "      <th></th>\n",
       "      <th>Air temperature [K]</th>\n",
       "      <th>Process temperature [K]</th>\n",
       "      <th>Rotational speed [rpm]</th>\n",
       "      <th>Torque [Nm]</th>\n",
       "      <th>Tool wear [min]</th>\n",
       "    </tr>\n",
       "  </thead>\n",
       "  <tbody>\n",
       "    <tr>\n",
       "      <th>mean</th>\n",
       "      <td>300.004930</td>\n",
       "      <td>310.005560</td>\n",
       "      <td>1538.776100</td>\n",
       "      <td>39.986910</td>\n",
       "      <td>107.951000</td>\n",
       "    </tr>\n",
       "    <tr>\n",
       "      <th>std</th>\n",
       "      <td>2.000259</td>\n",
       "      <td>1.483734</td>\n",
       "      <td>179.284096</td>\n",
       "      <td>9.968934</td>\n",
       "      <td>63.654147</td>\n",
       "    </tr>\n",
       "    <tr>\n",
       "      <th>min</th>\n",
       "      <td>295.300000</td>\n",
       "      <td>305.700000</td>\n",
       "      <td>1168.000000</td>\n",
       "      <td>3.800000</td>\n",
       "      <td>0.000000</td>\n",
       "    </tr>\n",
       "    <tr>\n",
       "      <th>max</th>\n",
       "      <td>304.500000</td>\n",
       "      <td>313.800000</td>\n",
       "      <td>2886.000000</td>\n",
       "      <td>76.600000</td>\n",
       "      <td>253.000000</td>\n",
       "    </tr>\n",
       "  </tbody>\n",
       "</table>\n",
       "</div>"
      ],
      "text/plain": [
       "      Air temperature [K]  Process temperature [K]  Rotational speed [rpm]  \\\n",
       "mean           300.004930               310.005560             1538.776100   \n",
       "std              2.000259                 1.483734              179.284096   \n",
       "min            295.300000               305.700000             1168.000000   \n",
       "max            304.500000               313.800000             2886.000000   \n",
       "\n",
       "      Torque [Nm]  Tool wear [min]  \n",
       "mean    39.986910       107.951000  \n",
       "std      9.968934        63.654147  \n",
       "min      3.800000         0.000000  \n",
       "max     76.600000       253.000000  "
      ]
     },
     "metadata": {},
     "output_type": "display_data"
    },
    {
     "name": "stdout",
     "output_type": "stream",
     "text": [
      "Label Columns\n"
     ]
    },
    {
     "data": {
      "text/html": [
       "<div>\n",
       "<style scoped>\n",
       "    .dataframe tbody tr th:only-of-type {\n",
       "        vertical-align: middle;\n",
       "    }\n",
       "\n",
       "    .dataframe tbody tr th {\n",
       "        vertical-align: top;\n",
       "    }\n",
       "\n",
       "    .dataframe thead th {\n",
       "        text-align: right;\n",
       "    }\n",
       "</style>\n",
       "<table border=\"1\" class=\"dataframe\">\n",
       "  <thead>\n",
       "    <tr style=\"text-align: right;\">\n",
       "      <th></th>\n",
       "      <th>Machine failure</th>\n",
       "      <th>TWF</th>\n",
       "      <th>HDF</th>\n",
       "      <th>PWF</th>\n",
       "      <th>OSF</th>\n",
       "      <th>RNF</th>\n",
       "    </tr>\n",
       "  </thead>\n",
       "  <tbody>\n",
       "    <tr>\n",
       "      <th>Failure Rate</th>\n",
       "      <td>0.0339</td>\n",
       "      <td>0.004600</td>\n",
       "      <td>0.011500</td>\n",
       "      <td>0.009500</td>\n",
       "      <td>0.009800</td>\n",
       "      <td>0.001900</td>\n",
       "    </tr>\n",
       "    <tr>\n",
       "      <th>Failure Type Proportion</th>\n",
       "      <td>1.0000</td>\n",
       "      <td>0.135693</td>\n",
       "      <td>0.339233</td>\n",
       "      <td>0.280236</td>\n",
       "      <td>0.289086</td>\n",
       "      <td>0.056047</td>\n",
       "    </tr>\n",
       "  </tbody>\n",
       "</table>\n",
       "</div>"
      ],
      "text/plain": [
       "                         Machine failure       TWF       HDF       PWF  \\\n",
       "Failure Rate                      0.0339  0.004600  0.011500  0.009500   \n",
       "Failure Type Proportion           1.0000  0.135693  0.339233  0.280236   \n",
       "\n",
       "                              OSF       RNF  \n",
       "Failure Rate             0.009800  0.001900  \n",
       "Failure Type Proportion  0.289086  0.056047  "
      ]
     },
     "metadata": {},
     "output_type": "display_data"
    }
   ],
   "source": [
    "print('Numeric Feature Columns')\n",
    "feature_stats = data[numeric_features].describe().drop(['count', '25%', '50%', '75%'])\n",
    "display(feature_stats)\n",
    "\n",
    "print('Label Columns')\n",
    "label_stats = data[bin_labels].describe().drop(['count', 'std', 'min', 'max', '25%', '50%', '75%']).rename(index={'mean': 'Failure Rate'})\n",
    "label_stats.loc['Failure Type Proportion'] = label_stats.loc['Failure Rate'] / label_stats.loc['Failure Rate', 'Machine failure']\n",
    "display(label_stats)"
   ]
  },
  {
   "cell_type": "markdown",
   "metadata": {},
   "source": [
    "#### Visualizations"
   ]
  },
  {
   "cell_type": "code",
   "execution_count": 84,
   "metadata": {},
   "outputs": [
    {
     "data": {
      "image/png": "[encoded data removed]",
      "text/plain": [
       "<Figure size 1600x300 with 5 Axes>"
      ]
     },
     "metadata": {},
     "output_type": "display_data"
    },
    {
     "data": {
      "image/png": "[encoded data removed]",
      "text/plain": [
       "<Figure size 300x300 with 1 Axes>"
      ]
     },
     "metadata": {},
     "output_type": "display_data"
    }
   ],
   "source": [
    "fig, axes = plt.subplots(1, 5, figsize=(16, 3))\n",
    "for idx in range(len(numeric_features)):\n",
    "    axes[idx].boxplot(data[numeric_features[idx]])\n",
    "    axes[idx].set_title(numeric_features[idx])\n",
    "    axes[idx].set_ylabel('Value')\n",
    "plt.show()\n",
    "\n",
    "fig, ax = plt.subplots(figsize=(3, 3))\n",
    "data[categorical_features[0]].value_counts().plot(kind='bar', ax=ax, color='skyblue')\n",
    "ax.set_title(categorical_features[0])\n",
    "ax.set_xlabel('Type')\n",
    "ax.set_ylabel('Count')\n",
    "ax.tick_params(axis='x', rotation=0)\n",
    "plt.show()\n",
    "\n"
   ]
  },
  {
   "cell_type": "markdown",
   "metadata": {},
   "source": [
    "#### Correlations"
   ]
  },
  {
   "cell_type": "code",
   "execution_count": 85,
   "metadata": {},
   "outputs": [
    {
     "name": "stdout",
     "output_type": "stream",
     "text": [
      "Correlation Matrix for Features\n"
     ]
    },
    {
     "data": {
      "text/html": [
       "<div>\n",
       "<style scoped>\n",
       "    .dataframe tbody tr th:only-of-type {\n",
       "        vertical-align: middle;\n",
       "    }\n",
       "\n",
       "    .dataframe tbody tr th {\n",
       "        vertical-align: top;\n",
       "    }\n",
       "\n",
       "    .dataframe thead th {\n",
       "        text-align: right;\n",
       "    }\n",
       "</style>\n",
       "<table border=\"1\" class=\"dataframe\">\n",
       "  <thead>\n",
       "    <tr style=\"text-align: right;\">\n",
       "      <th></th>\n",
       "      <th>Air temperature [K]</th>\n",
       "      <th>Process temperature [K]</th>\n",
       "      <th>Rotational speed [rpm]</th>\n",
       "      <th>Torque [Nm]</th>\n",
       "      <th>Tool wear [min]</th>\n",
       "    </tr>\n",
       "  </thead>\n",
       "  <tbody>\n",
       "    <tr>\n",
       "      <th>Air temperature [K]</th>\n",
       "      <td>1.000000</td>\n",
       "      <td>0.876107</td>\n",
       "      <td>0.022670</td>\n",
       "      <td>-0.013778</td>\n",
       "      <td>0.013853</td>\n",
       "    </tr>\n",
       "    <tr>\n",
       "      <th>Process temperature [K]</th>\n",
       "      <td>0.876107</td>\n",
       "      <td>1.000000</td>\n",
       "      <td>0.019277</td>\n",
       "      <td>-0.014061</td>\n",
       "      <td>0.013488</td>\n",
       "    </tr>\n",
       "    <tr>\n",
       "      <th>Rotational speed [rpm]</th>\n",
       "      <td>0.022670</td>\n",
       "      <td>0.019277</td>\n",
       "      <td>1.000000</td>\n",
       "      <td>-0.875027</td>\n",
       "      <td>0.000223</td>\n",
       "    </tr>\n",
       "    <tr>\n",
       "      <th>Torque [Nm]</th>\n",
       "      <td>-0.013778</td>\n",
       "      <td>-0.014061</td>\n",
       "      <td>-0.875027</td>\n",
       "      <td>1.000000</td>\n",
       "      <td>-0.003093</td>\n",
       "    </tr>\n",
       "    <tr>\n",
       "      <th>Tool wear [min]</th>\n",
       "      <td>0.013853</td>\n",
       "      <td>0.013488</td>\n",
       "      <td>0.000223</td>\n",
       "      <td>-0.003093</td>\n",
       "      <td>1.000000</td>\n",
       "    </tr>\n",
       "  </tbody>\n",
       "</table>\n",
       "</div>"
      ],
      "text/plain": [
       "                         Air temperature [K]  Process temperature [K]  \\\n",
       "Air temperature [K]                 1.000000                 0.876107   \n",
       "Process temperature [K]             0.876107                 1.000000   \n",
       "Rotational speed [rpm]              0.022670                 0.019277   \n",
       "Torque [Nm]                        -0.013778                -0.014061   \n",
       "Tool wear [min]                     0.013853                 0.013488   \n",
       "\n",
       "                         Rotational speed [rpm]  Torque [Nm]  Tool wear [min]  \n",
       "Air temperature [K]                    0.022670    -0.013778         0.013853  \n",
       "Process temperature [K]                0.019277    -0.014061         0.013488  \n",
       "Rotational speed [rpm]                 1.000000    -0.875027         0.000223  \n",
       "Torque [Nm]                           -0.875027     1.000000        -0.003093  \n",
       "Tool wear [min]                        0.000223    -0.003093         1.000000  "
      ]
     },
     "execution_count": 85,
     "metadata": {},
     "output_type": "execute_result"
    }
   ],
   "source": [
    "print('Correlation Matrix for Features')\n",
    "data[numeric_features].corr()"
   ]
  },
  {
   "cell_type": "markdown",
   "metadata": {},
   "source": [
    "### Data Restructuring\n",
    "Multi-label versus multi-class classification? (problem: hardly any RNF failures)"
   ]
  },
  {
   "cell_type": "code",
   "execution_count": 86,
   "metadata": {},
   "outputs": [],
   "source": [
    "def determine_failure_mode(event, specify_multiple):\n",
    "    failure_modes = [failure for failure in bin_labels[1:] if event[failure] == 1]\n",
    "    if not failure_modes:\n",
    "        return 'No failure'\n",
    "    elif specify_multiple:\n",
    "        return '_'.join(failure_modes)\n",
    "    else:\n",
    "        return failure_modes[0] if len(failure_modes) == 1 else 'Multiple failures'"
   ]
  },
  {
   "cell_type": "code",
   "execution_count": 87,
   "metadata": {},
   "outputs": [
    {
     "data": {
      "text/plain": [
       "Failure Mode\n",
       "No failure           9652\n",
       "HDF                   106\n",
       "PWF                    80\n",
       "OSF                    78\n",
       "TWF                    42\n",
       "Multiple failures      24\n",
       "RNF                    18\n",
       "Name: count, dtype: int64"
      ]
     },
     "metadata": {},
     "output_type": "display_data"
    }
   ],
   "source": [
    "specify_multiple = False # what label to assign to events with multiple failures\n",
    "data['Failure Mode'] = data.apply(lambda event: determine_failure_mode(event = event, specify_multiple = specify_multiple), axis=1)\n",
    "categorical_labels = ['Failure Mode']\n",
    "labels = bin_labels + categorical_labels\n",
    "features = numeric_features + categorical_features\n",
    "display(data['Failure Mode'].value_counts())"
   ]
  },
  {
   "cell_type": "markdown",
   "metadata": {},
   "source": [
    "### Data Encoding and Normalization"
   ]
  },
  {
   "cell_type": "code",
   "execution_count": 88,
   "metadata": {},
   "outputs": [],
   "source": [
    "preprocessor = ColumnTransformer(\n",
    "    transformers=[\n",
    "        ('num', StandardScaler(), numeric_features),\n",
    "        ('cat', OneHotEncoder(), categorical_features)\n",
    "    ]\n",
    ")\n",
    "label_encoder = LabelEncoder()"
   ]
  },
  {
   "cell_type": "code",
   "execution_count": 89,
   "metadata": {},
   "outputs": [],
   "source": [
    "X = pd.DataFrame(preprocessor.fit_transform(data[features]), columns = preprocessor.get_feature_names_out())\n",
    "# y = data[labels]\n",
    "# fit transform to categorical labels and combine back with numeric labels\n",
    "y_categorical_encoded = pd.DataFrame(label_encoder.fit_transform(data['Failure Mode']), columns = ['Failure Mode'])\n",
    "y = pd.concat([data[bin_labels], y_categorical_encoded], axis=1)"
   ]
  },
  {
   "cell_type": "markdown",
   "metadata": {},
   "source": [
    "#### Final Data Format"
   ]
  },
  {
   "cell_type": "code",
   "execution_count": 90,
   "metadata": {},
   "outputs": [
    {
     "data": {
      "text/html": [
       "<div>\n",
       "<style scoped>\n",
       "    .dataframe tbody tr th:only-of-type {\n",
       "        vertical-align: middle;\n",
       "    }\n",
       "\n",
       "    .dataframe tbody tr th {\n",
       "        vertical-align: top;\n",
       "    }\n",
       "\n",
       "    .dataframe thead th {\n",
       "        text-align: right;\n",
       "    }\n",
       "</style>\n",
       "<table border=\"1\" class=\"dataframe\">\n",
       "  <thead>\n",
       "    <tr style=\"text-align: right;\">\n",
       "      <th></th>\n",
       "      <th>num__Air temperature [K]</th>\n",
       "      <th>num__Process temperature [K]</th>\n",
       "      <th>num__Rotational speed [rpm]</th>\n",
       "      <th>num__Torque [Nm]</th>\n",
       "      <th>num__Tool wear [min]</th>\n",
       "      <th>cat__Type_H</th>\n",
       "      <th>cat__Type_L</th>\n",
       "      <th>cat__Type_M</th>\n",
       "    </tr>\n",
       "  </thead>\n",
       "  <tbody>\n",
       "    <tr>\n",
       "      <th>0</th>\n",
       "      <td>-0.952389</td>\n",
       "      <td>-0.947360</td>\n",
       "      <td>0.068185</td>\n",
       "      <td>0.282200</td>\n",
       "      <td>-1.695984</td>\n",
       "      <td>0.0</td>\n",
       "      <td>0.0</td>\n",
       "      <td>1.0</td>\n",
       "    </tr>\n",
       "    <tr>\n",
       "      <th>1</th>\n",
       "      <td>-0.902393</td>\n",
       "      <td>-0.879959</td>\n",
       "      <td>-0.729472</td>\n",
       "      <td>0.633308</td>\n",
       "      <td>-1.648852</td>\n",
       "      <td>0.0</td>\n",
       "      <td>1.0</td>\n",
       "      <td>0.0</td>\n",
       "    </tr>\n",
       "    <tr>\n",
       "      <th>2</th>\n",
       "      <td>-0.952389</td>\n",
       "      <td>-1.014761</td>\n",
       "      <td>-0.227450</td>\n",
       "      <td>0.944290</td>\n",
       "      <td>-1.617430</td>\n",
       "      <td>0.0</td>\n",
       "      <td>1.0</td>\n",
       "      <td>0.0</td>\n",
       "    </tr>\n",
       "  </tbody>\n",
       "</table>\n",
       "</div>"
      ],
      "text/plain": [
       "   num__Air temperature [K]  num__Process temperature [K]  \\\n",
       "0                 -0.952389                     -0.947360   \n",
       "1                 -0.902393                     -0.879959   \n",
       "2                 -0.952389                     -1.014761   \n",
       "\n",
       "   num__Rotational speed [rpm]  num__Torque [Nm]  num__Tool wear [min]  \\\n",
       "0                     0.068185          0.282200             -1.695984   \n",
       "1                    -0.729472          0.633308             -1.648852   \n",
       "2                    -0.227450          0.944290             -1.617430   \n",
       "\n",
       "   cat__Type_H  cat__Type_L  cat__Type_M  \n",
       "0          0.0          0.0          1.0  \n",
       "1          0.0          1.0          0.0  \n",
       "2          0.0          1.0          0.0  "
      ]
     },
     "metadata": {},
     "output_type": "display_data"
    },
    {
     "data": {
      "text/html": [
       "<div>\n",
       "<style scoped>\n",
       "    .dataframe tbody tr th:only-of-type {\n",
       "        vertical-align: middle;\n",
       "    }\n",
       "\n",
       "    .dataframe tbody tr th {\n",
       "        vertical-align: top;\n",
       "    }\n",
       "\n",
       "    .dataframe thead th {\n",
       "        text-align: right;\n",
       "    }\n",
       "</style>\n",
       "<table border=\"1\" class=\"dataframe\">\n",
       "  <thead>\n",
       "    <tr style=\"text-align: right;\">\n",
       "      <th></th>\n",
       "      <th>Machine failure</th>\n",
       "      <th>TWF</th>\n",
       "      <th>HDF</th>\n",
       "      <th>PWF</th>\n",
       "      <th>OSF</th>\n",
       "      <th>RNF</th>\n",
       "      <th>Failure Mode</th>\n",
       "    </tr>\n",
       "  </thead>\n",
       "  <tbody>\n",
       "    <tr>\n",
       "      <th>0</th>\n",
       "      <td>0</td>\n",
       "      <td>0</td>\n",
       "      <td>0</td>\n",
       "      <td>0</td>\n",
       "      <td>0</td>\n",
       "      <td>0</td>\n",
       "      <td>2</td>\n",
       "    </tr>\n",
       "    <tr>\n",
       "      <th>1</th>\n",
       "      <td>0</td>\n",
       "      <td>0</td>\n",
       "      <td>0</td>\n",
       "      <td>0</td>\n",
       "      <td>0</td>\n",
       "      <td>0</td>\n",
       "      <td>2</td>\n",
       "    </tr>\n",
       "    <tr>\n",
       "      <th>2</th>\n",
       "      <td>0</td>\n",
       "      <td>0</td>\n",
       "      <td>0</td>\n",
       "      <td>0</td>\n",
       "      <td>0</td>\n",
       "      <td>0</td>\n",
       "      <td>2</td>\n",
       "    </tr>\n",
       "  </tbody>\n",
       "</table>\n",
       "</div>"
      ],
      "text/plain": [
       "   Machine failure  TWF  HDF  PWF  OSF  RNF  Failure Mode\n",
       "0                0    0    0    0    0    0             2\n",
       "1                0    0    0    0    0    0             2\n",
       "2                0    0    0    0    0    0             2"
      ]
     },
     "metadata": {},
     "output_type": "display_data"
    },
    {
     "name": "stdout",
     "output_type": "stream",
     "text": [
      "Numeric features: ['Air temperature [K]', 'Process temperature [K]', 'Rotational speed [rpm]', 'Torque [Nm]', 'Tool wear [min]']\n",
      "Categorical features: ['Type']\n",
      "Labels:  ['Machine failure', 'TWF', 'HDF', 'PWF', 'OSF', 'RNF', 'Failure Mode']\n"
     ]
    }
   ],
   "source": [
    "display(X.head(3))\n",
    "display(y.head(3))\n",
    "print('Numeric features:', numeric_features)\n",
    "print('Categorical features:', categorical_features)\n",
    "print('Labels: ', labels)"
   ]
  },
  {
   "cell_type": "markdown",
   "metadata": {},
   "source": [
    "### Train Test Split"
   ]
  },
  {
   "cell_type": "code",
   "execution_count": 91,
   "metadata": {},
   "outputs": [
    {
     "name": "stdout",
     "output_type": "stream",
     "text": [
      "Shape of training data: (7200, 8)\n",
      "Shape of validation data: (1800, 8)\n",
      "Shape of test data: (1000, 8)\n"
     ]
    },
    {
     "data": {
      "text/html": [
       "<div>\n",
       "<style scoped>\n",
       "    .dataframe tbody tr th:only-of-type {\n",
       "        vertical-align: middle;\n",
       "    }\n",
       "\n",
       "    .dataframe tbody tr th {\n",
       "        vertical-align: top;\n",
       "    }\n",
       "\n",
       "    .dataframe thead th {\n",
       "        text-align: right;\n",
       "    }\n",
       "</style>\n",
       "<table border=\"1\" class=\"dataframe\">\n",
       "  <thead>\n",
       "    <tr style=\"text-align: right;\">\n",
       "      <th></th>\n",
       "      <th>num__Air temperature [K]</th>\n",
       "      <th>num__Process temperature [K]</th>\n",
       "      <th>num__Rotational speed [rpm]</th>\n",
       "      <th>num__Torque [Nm]</th>\n",
       "      <th>num__Tool wear [min]</th>\n",
       "      <th>cat__Type_H</th>\n",
       "      <th>cat__Type_L</th>\n",
       "      <th>cat__Type_M</th>\n",
       "    </tr>\n",
       "  </thead>\n",
       "  <tbody>\n",
       "    <tr>\n",
       "      <th>7604</th>\n",
       "      <td>0.197519</td>\n",
       "      <td>0.872464</td>\n",
       "      <td>0.559051</td>\n",
       "      <td>-0.540397</td>\n",
       "      <td>-1.318927</td>\n",
       "      <td>0.0</td>\n",
       "      <td>1.0</td>\n",
       "      <td>0.0</td>\n",
       "    </tr>\n",
       "    <tr>\n",
       "      <th>4593</th>\n",
       "      <td>1.497416</td>\n",
       "      <td>0.805063</td>\n",
       "      <td>-0.723893</td>\n",
       "      <td>0.191915</td>\n",
       "      <td>-0.156337</td>\n",
       "      <td>0.0</td>\n",
       "      <td>1.0</td>\n",
       "      <td>0.0</td>\n",
       "    </tr>\n",
       "    <tr>\n",
       "      <th>7976</th>\n",
       "      <td>0.597488</td>\n",
       "      <td>1.613874</td>\n",
       "      <td>-0.801986</td>\n",
       "      <td>0.783783</td>\n",
       "      <td>-0.282022</td>\n",
       "      <td>1.0</td>\n",
       "      <td>0.0</td>\n",
       "      <td>0.0</td>\n",
       "    </tr>\n",
       "  </tbody>\n",
       "</table>\n",
       "</div>"
      ],
      "text/plain": [
       "      num__Air temperature [K]  num__Process temperature [K]  \\\n",
       "7604                  0.197519                      0.872464   \n",
       "4593                  1.497416                      0.805063   \n",
       "7976                  0.597488                      1.613874   \n",
       "\n",
       "      num__Rotational speed [rpm]  num__Torque [Nm]  num__Tool wear [min]  \\\n",
       "7604                     0.559051         -0.540397             -1.318927   \n",
       "4593                    -0.723893          0.191915             -0.156337   \n",
       "7976                    -0.801986          0.783783             -0.282022   \n",
       "\n",
       "      cat__Type_H  cat__Type_L  cat__Type_M  \n",
       "7604          0.0          1.0          0.0  \n",
       "4593          0.0          1.0          0.0  \n",
       "7976          1.0          0.0          0.0  "
      ]
     },
     "metadata": {},
     "output_type": "display_data"
    },
    {
     "data": {
      "text/html": [
       "<div>\n",
       "<style scoped>\n",
       "    .dataframe tbody tr th:only-of-type {\n",
       "        vertical-align: middle;\n",
       "    }\n",
       "\n",
       "    .dataframe tbody tr th {\n",
       "        vertical-align: top;\n",
       "    }\n",
       "\n",
       "    .dataframe thead th {\n",
       "        text-align: right;\n",
       "    }\n",
       "</style>\n",
       "<table border=\"1\" class=\"dataframe\">\n",
       "  <thead>\n",
       "    <tr style=\"text-align: right;\">\n",
       "      <th></th>\n",
       "      <th>Machine failure</th>\n",
       "      <th>TWF</th>\n",
       "      <th>HDF</th>\n",
       "      <th>PWF</th>\n",
       "      <th>OSF</th>\n",
       "      <th>RNF</th>\n",
       "      <th>Failure Mode</th>\n",
       "    </tr>\n",
       "  </thead>\n",
       "  <tbody>\n",
       "    <tr>\n",
       "      <th>7604</th>\n",
       "      <td>0</td>\n",
       "      <td>0</td>\n",
       "      <td>0</td>\n",
       "      <td>0</td>\n",
       "      <td>0</td>\n",
       "      <td>0</td>\n",
       "      <td>2</td>\n",
       "    </tr>\n",
       "    <tr>\n",
       "      <th>4593</th>\n",
       "      <td>0</td>\n",
       "      <td>0</td>\n",
       "      <td>0</td>\n",
       "      <td>0</td>\n",
       "      <td>0</td>\n",
       "      <td>0</td>\n",
       "      <td>2</td>\n",
       "    </tr>\n",
       "    <tr>\n",
       "      <th>7976</th>\n",
       "      <td>0</td>\n",
       "      <td>0</td>\n",
       "      <td>0</td>\n",
       "      <td>0</td>\n",
       "      <td>0</td>\n",
       "      <td>0</td>\n",
       "      <td>2</td>\n",
       "    </tr>\n",
       "  </tbody>\n",
       "</table>\n",
       "</div>"
      ],
      "text/plain": [
       "      Machine failure  TWF  HDF  PWF  OSF  RNF  Failure Mode\n",
       "7604                0    0    0    0    0    0             2\n",
       "4593                0    0    0    0    0    0             2\n",
       "7976                0    0    0    0    0    0             2"
      ]
     },
     "metadata": {},
     "output_type": "display_data"
    }
   ],
   "source": [
    "X_remainder, X_test, y_remainder, y_test = train_test_split.train_test_split(X, y, test_size=0.1, stratify=data['Failure Mode'], random_state=42)\n",
    "X_train, X_val, y_train, y_val = train_test_split.train_test_split(X_remainder, y_remainder, test_size=0.2, stratify=y_remainder['Failure Mode'], random_state=42)\n",
    "print('Shape of training data:', X_train.shape)\n",
    "print('Shape of validation data:', X_val.shape)\n",
    "print('Shape of test data:', X_test.shape)\n",
    "display(X_train.head(3), y_train.head(3))"
   ]
  },
  {
   "cell_type": "markdown",
   "metadata": {},
   "source": [
    "## 2 - Classifiers"
   ]
  },
  {
   "cell_type": "markdown",
   "metadata": {},
   "source": [
    "### Naive Classifier\n",
    "Baseline 1"
   ]
  },
  {
   "cell_type": "code",
   "execution_count": 13,
   "metadata": {},
   "outputs": [],
   "source": [
    "def naive_classify(data):\n",
    "    labels = [label_encoder.transform(['No failure']) for i in range(data.shape[0])]\n",
    "    return labels"
   ]
  },
  {
   "cell_type": "code",
   "execution_count": 14,
   "metadata": {},
   "outputs": [
    {
     "name": "stdout",
     "output_type": "stream",
     "text": [
      "Naive Classifier\n",
      "Accuracy: 0.965\n",
      "Precision: 1.0\n",
      "Recall: 0.965\n",
      "F1 Score: 0.9821882951653944\n",
      "Confusion Matrix:\n",
      "[[  0   0   0   0   0   0   0]\n",
      " [  0   0   0   0   0   0   0]\n",
      " [ 11   2 965   8   8   2   4]\n",
      " [  0   0   0   0   0   0   0]\n",
      " [  0   0   0   0   0   0   0]\n",
      " [  0   0   0   0   0   0   0]\n",
      " [  0   0   0   0   0   0   0]]\n",
      "Matthews Correlation Coefficient: 0.0\n"
     ]
    },
    {
     "name": "stderr",
     "output_type": "stream",
     "text": [
      "/opt/anaconda3/lib/python3.11/site-packages/sklearn/metrics/_classification.py:1344: UndefinedMetricWarning: Recall is ill-defined and being set to 0.0 in labels with no true samples. Use `zero_division` parameter to control this behavior.\n",
      "  _warn_prf(average, modifier, msg_start, len(result))\n"
     ]
    }
   ],
   "source": [
    "importlib.reload(classify)\n",
    "\n",
    "naive_labels = naive_classify(X_test)\n",
    "naive_accuracy = accuracy_score(naive_labels, y_test['Failure Mode'])\n",
    "naive_precision = precision_score(naive_labels, y_test['Failure Mode'], average='weighted')\n",
    "naive_recall = recall_score(naive_labels, y_test['Failure Mode'], average='weighted')\n",
    "naive_f1 = f1_score(naive_labels, y_test['Failure Mode'], average='weighted')\n",
    "naive_confusion = confusion_matrix(naive_labels, y_test['Failure Mode'])\n",
    "naive_matthews = matthews_corrcoef(naive_labels, y_test['Failure Mode'])\n",
    "\n",
    "print('Naive Classifier')\n",
    "print('Accuracy:', naive_accuracy)\n",
    "print('Precision:', naive_precision)\n",
    "print('Recall:', naive_recall)\n",
    "print('F1 Score:', naive_f1)\n",
    "print('Confusion Matrix:')\n",
    "print(naive_confusion)\n",
    "print('Matthews Correlation Coefficient:', naive_matthews)"
   ]
  },
  {
   "cell_type": "markdown",
   "metadata": {},
   "source": [
    "### Decision Tree\n",
    "Baseline 2"
   ]
  },
  {
   "cell_type": "code",
   "execution_count": 15,
   "metadata": {},
   "outputs": [
    {
     "name": "stdout",
     "output_type": "stream",
     "text": [
      "Decision Tree Classifier\n",
      "Accuracy: 0.979\n",
      "Precision: 0.9789834196891192\n",
      "Recall: 0.979\n",
      "F1 Score: 0.9785240165631469\n",
      "Confusion Matrix:\n",
      "[[ 11   0   0   0   0   0   0]\n",
      " [  0   1   0   0   0   0   0]\n",
      " [  0   0 957   2   4   2   2]\n",
      " [  0   1   1   5   0   0   1]\n",
      " [  0   0   0   0   4   0   0]\n",
      " [  0   0   3   0   0   0   0]\n",
      " [  0   0   4   1   0   0   1]]\n",
      "Matthews Correlation Coefficient: 0.6850840182907083\n"
     ]
    }
   ],
   "source": [
    "importlib.reload(classify)\n",
    "\n",
    "decision_tree = DecisionTreeClassifier(random_state=42)\n",
    "decision_tree.fit(X_train, y_train['Failure Mode'])\n",
    "decision_tree_labels = decision_tree.predict(X_test)\n",
    "decision_tree_accuracy = accuracy_score(decision_tree_labels, y_test['Failure Mode'])\n",
    "decision_tree_precision = precision_score(decision_tree_labels, y_test['Failure Mode'], average='weighted')\n",
    "decision_tree_recall = recall_score(decision_tree_labels, y_test['Failure Mode'], average='weighted')\n",
    "decision_tree_f1 = f1_score(decision_tree_labels, y_test['Failure Mode'], average='weighted')\n",
    "decision_tree_confusion = confusion_matrix(decision_tree_labels, y_test['Failure Mode'])\n",
    "decision_tree_matthews = matthews_corrcoef(decision_tree_labels, y_test['Failure Mode'])\n",
    "\n",
    "print('Decision Tree Classifier')\n",
    "print('Accuracy:', decision_tree_accuracy)\n",
    "print('Precision:', decision_tree_precision)\n",
    "print('Recall:', decision_tree_recall)\n",
    "print('F1 Score:', decision_tree_f1)\n",
    "print('Confusion Matrix:')\n",
    "print(decision_tree_confusion)\n",
    "print('Matthews Correlation Coefficient:', decision_tree_matthews)"
   ]
  },
  {
   "cell_type": "code",
   "execution_count": 16,
   "metadata": {},
   "outputs": [
    {
     "name": "stdout",
     "output_type": "stream",
     "text": [
      "Random Forest Classifier\n",
      "Accuracy: 0.985\n",
      "Precision: 0.9928522020725389\n",
      "Recall: 0.985\n",
      "F1 Score: 0.9885893642678806\n",
      "Confusion Matrix:\n",
      "[[ 10   0   1   0   0   0   0]\n",
      " [  0   2   0   0   0   0   0]\n",
      " [  1   0 963   3   3   2   4]\n",
      " [  0   0   0   5   0   0   0]\n",
      " [  0   0   1   0   5   0   0]\n",
      " [  0   0   0   0   0   0   0]\n",
      " [  0   0   0   0   0   0   0]]\n",
      "Matthews Correlation Coefficient: 0.7549800149511631\n"
     ]
    },
    {
     "name": "stderr",
     "output_type": "stream",
     "text": [
      "/opt/anaconda3/lib/python3.11/site-packages/sklearn/metrics/_classification.py:1344: UndefinedMetricWarning: Recall is ill-defined and being set to 0.0 in labels with no true samples. Use `zero_division` parameter to control this behavior.\n",
      "  _warn_prf(average, modifier, msg_start, len(result))\n"
     ]
    }
   ],
   "source": [
    "importlib.reload(classify)\n",
    "\n",
    "random_forest = RandomForestClassifier(random_state=42)\n",
    "random_forest.fit(X_train, y_train['Failure Mode'])\n",
    "random_forest_labels = random_forest.predict(X_test)\n",
    "random_forest_accuracy = accuracy_score(random_forest_labels, y_test['Failure Mode'])\n",
    "random_forest_precision = precision_score(random_forest_labels, y_test['Failure Mode'], average='weighted')\n",
    "random_forest_recall = recall_score(random_forest_labels, y_test['Failure Mode'], average='weighted')\n",
    "random_forest_f1 = f1_score(random_forest_labels, y_test['Failure Mode'], average='weighted')\n",
    "random_forest_confusion = confusion_matrix(random_forest_labels, y_test['Failure Mode'])\n",
    "random_forest_matthews = matthews_corrcoef(random_forest_labels, y_test['Failure Mode'])\n",
    "\n",
    "print('Random Forest Classifier')\n",
    "print('Accuracy:', random_forest_accuracy)\n",
    "print('Precision:', random_forest_precision)\n",
    "print('Recall:', random_forest_recall)\n",
    "print('F1 Score:', random_forest_f1)\n",
    "print('Confusion Matrix:')\n",
    "print(random_forest_confusion)\n",
    "print('Matthews Correlation Coefficient:', random_forest_matthews)"
   ]
  },
  {
   "cell_type": "markdown",
   "metadata": {},
   "source": [
    "### k-NN"
   ]
  },
  {
   "cell_type": "code",
   "execution_count": 17,
   "metadata": {},
   "outputs": [
    {
     "name": "stdout",
     "output_type": "stream",
     "text": [
      "K-Nearest Neighbors Classifier\n",
      "Accuracy: 0.969\n",
      "Precision: 0.983540956194065\n",
      "Recall: 0.969\n",
      "F1 Score: 0.9752398059610989\n",
      "Confusion Matrix:\n",
      "[[  3   0   4   0   0   0   0]\n",
      " [  0   2   0   0   0   0   0]\n",
      " [  8   0 959   6   6   2   3]\n",
      " [  0   0   0   2   0   0   0]\n",
      " [  0   0   1   0   2   0   0]\n",
      " [  0   0   0   0   0   0   0]\n",
      " [  0   0   1   0   0   0   1]]\n",
      "Matthews Correlation Coefficient: 0.41457363734590097\n"
     ]
    },
    {
     "name": "stderr",
     "output_type": "stream",
     "text": [
      "/opt/anaconda3/lib/python3.11/site-packages/sklearn/metrics/_classification.py:1344: UndefinedMetricWarning: Recall is ill-defined and being set to 0.0 in labels with no true samples. Use `zero_division` parameter to control this behavior.\n",
      "  _warn_prf(average, modifier, msg_start, len(result))\n"
     ]
    }
   ],
   "source": [
    "importlib.reload(classify)\n",
    "\n",
    "knn = KNeighborsClassifier(n_neighbors=3)\n",
    "knn.fit(X_train, y_train['Failure Mode'])\n",
    "knn_labels = knn.predict(X_test)\n",
    "knn_accuracy = accuracy_score(knn_labels, y_test['Failure Mode'])\n",
    "knn_precision = precision_score(knn_labels, y_test['Failure Mode'], average='weighted')\n",
    "knn_recall = recall_score(knn_labels, y_test['Failure Mode'], average='weighted')\n",
    "knn_f1 = f1_score(knn_labels, y_test['Failure Mode'], average='weighted')\n",
    "knn_confusion = confusion_matrix(knn_labels, y_test['Failure Mode'])\n",
    "knn_matthews = matthews_corrcoef(knn_labels, y_test['Failure Mode'])\n",
    "\n",
    "print('K-Nearest Neighbors Classifier')\n",
    "print('Accuracy:', knn_accuracy)\n",
    "print('Precision:', knn_precision)\n",
    "print('Recall:', knn_recall)\n",
    "print('F1 Score:', knn_f1)\n",
    "print('Confusion Matrix:')\n",
    "print(knn_confusion)\n",
    "print('Matthews Correlation Coefficient:', knn_matthews)"
   ]
  },
  {
   "cell_type": "markdown",
   "metadata": {},
   "source": [
    "### Neural Network (multi-class)"
   ]
  },
  {
   "cell_type": "code",
   "execution_count": 106,
   "metadata": {},
   "outputs": [],
   "source": [
    "class Data(Dataset):\n",
    "    def __init__(self, data, targets):\n",
    "        self.data = torch.tensor(data.to_numpy(), dtype=torch.float32)\n",
    "        self.labels = torch.tensor(targets.to_numpy(), dtype=torch.long)  # For multi-class, use long dtype\n",
    "\n",
    "    def __len__(self):\n",
    "        return self.data.shape[0]\n",
    "\n",
    "    def __getitem__(self, idx):\n",
    "        return self.data[idx], self.labels[idx]\n",
    "\n",
    "class FeedForward(nn.Module):\n",
    "    def __init__(self, size_in, size_out, k):\n",
    "        super(FeedForward, self).__init__()\n",
    "        self.linearStack = nn.Sequential(\n",
    "            nn.Linear(size_in, k),\n",
    "            nn.ReLU(),\n",
    "            nn.Linear(k, size_out),\n",
    "        )\n",
    "\n",
    "    def forward(self, x):\n",
    "        return self.linearStack(x)  # Output raw logits for CrossEntropyLoss\n",
    "\n",
    "def train_model(model, dataloader, criterion, optimizer, device):\n",
    "    model.train()\n",
    "    tot_train_loss = 0\n",
    "    for data, target in dataloader:\n",
    "        data, target = data.to(device), target.to(device)\n",
    "        optimizer.zero_grad()\n",
    "        output = model(data)  # Raw logits\n",
    "        loss = criterion(output, target)  # CrossEntropyLoss expects raw logits\n",
    "        loss.backward()\n",
    "        optimizer.step()\n",
    "        tot_train_loss += loss.item()\n",
    "    return tot_train_loss / len(dataloader)\n",
    "\n",
    "\n",
    "def evaluate_model(model, dataloader, criterion, device):\n",
    "    model.eval()\n",
    "    total_loss = 0\n",
    "    all_targets = []\n",
    "    all_predictions = []\n",
    "\n",
    "    with torch.no_grad():\n",
    "        for data, target in dataloader:\n",
    "            data, target = data.to(device), target.to(device)\n",
    "            output = model(data)  # Raw logits\n",
    "            loss = criterion(output, target)\n",
    "            total_loss += loss.item()\n",
    "\n",
    "            predictions = torch.argmax(output, dim=1)  # Get class with highest probability\n",
    "            all_predictions.extend(predictions.cpu().numpy())\n",
    "            all_targets.extend(target.cpu().numpy())\n",
    "\n",
    "    accuracy = accuracy_score(all_targets, all_predictions)\n",
    "    avg_loss = total_loss / len(dataloader)\n",
    "    return all_predictions, accuracy, avg_loss\n"
   ]
  },
  {
   "cell_type": "code",
   "execution_count": 107,
   "metadata": {},
   "outputs": [
    {
     "name": "stdout",
     "output_type": "stream",
     "text": [
      "Feedforward Neural Network Classifier\n",
      "Accuracy: 0.976\n",
      "Precision: 0.9595126646403241\n",
      "Recall: 0.976\n",
      "F1 Score: 0.9664988822652757\n",
      "Confusion Matrix:\n",
      "[[  0   0  11   0   0   0   0]\n",
      " [  0   2   0   0   0   0   0]\n",
      " [  0   0 964   0   1   0   0]\n",
      " [  0   0   5   3   0   0   0]\n",
      " [  0   0   1   0   7   0   0]\n",
      " [  0   0   2   0   0   0   0]\n",
      " [  0   0   4   0   0   0   0]]\n",
      "Matthews Correlation Coefficient: 0.5583730286060318\n"
     ]
    },
    {
     "name": "stderr",
     "output_type": "stream",
     "text": [
      "/opt/anaconda3/lib/python3.11/site-packages/sklearn/metrics/_classification.py:1344: UndefinedMetricWarning: Precision is ill-defined and being set to 0.0 in labels with no predicted samples. Use `zero_division` parameter to control this behavior.\n",
      "  _warn_prf(average, modifier, msg_start, len(result))\n"
     ]
    }
   ],
   "source": [
    "# Compute class weights for multi-class labels\n",
    "batch_size = 32\n",
    "epochs = 100\n",
    "learning_rate = 0.0001\n",
    "device = 'cuda' if torch.cuda.is_available() else 'cpu'\n",
    "\n",
    "unique_classes = y_train['Failure Mode'].unique()\n",
    "class_weights = compute_class_weight(\n",
    "    class_weight='balanced',\n",
    "    classes=unique_classes,\n",
    "    y=y_train['Failure Mode']\n",
    ")\n",
    "class_weights = torch.tensor(class_weights, dtype=torch.float32).to(device)\n",
    "\n",
    "# Use CrossEntropyLoss with class weights\n",
    "criterion = nn.CrossEntropyLoss(weight=class_weights)\n",
    "\n",
    "train_data = Data(X_train, y_train['Failure Mode'])\n",
    "valid_data = Data(X_val, y_val['Failure Mode'])\n",
    "test_data = Data(X_test, y_test['Failure Mode'])\n",
    "\n",
    "train_loader = DataLoader(train_data, batch_size=batch_size, shuffle=True)\n",
    "valid_loader = DataLoader(valid_data, batch_size=batch_size, shuffle=True)\n",
    "test_loader = DataLoader(test_data, batch_size=batch_size, shuffle=False)\n",
    "\n",
    "# Define model for multi-class classification\n",
    "model = FeedForward(\n",
    "    size_in=X_train.shape[1],\n",
    "    size_out=len(unique_classes),  # Number of unique classes\n",
    "    k=64\n",
    ").to(device)\n",
    "\n",
    "optimizer = torch.optim.Adam(model.parameters(), lr=learning_rate)\n",
    "\n",
    "training_loss = []\n",
    "validation_loss = []\n",
    "\n",
    "for epoch in range(epochs):\n",
    "    avg_train_loss = train_model(model, train_loader, criterion, optimizer, device)\n",
    "    _, valid_accuracy, avg_valid_loss = evaluate_model(model, valid_loader, criterion, device)\n",
    "\n",
    "    training_loss.append(avg_train_loss)\n",
    "    validation_loss.append(avg_valid_loss)\n",
    "\n",
    "\n",
    "\n",
    "test_predictions, nn_accuracy, _ = evaluate_model(model, test_loader, criterion, device)\n",
    "\n",
    "nn_precision = precision_score(y_test['Failure Mode'], test_predictions,average='weighted')\n",
    "nn_recall = recall_score(y_test['Failure Mode'], test_predictions,average='weighted')\n",
    "nn_f1 = f1_score(y_test['Failure Mode'], test_predictions,average='weighted')\n",
    "nn_confusion = confusion_matrix(y_test['Failure Mode'], test_predictions)\n",
    "nn_matthews = matthews_corrcoef(y_test['Failure Mode'], test_predictions)\n",
    "\n",
    "print('Feedforward Neural Network Classifier')\n",
    "print('Accuracy:', nn_accuracy)\n",
    "print('Precision:', nn_precision)\n",
    "print('Recall:', nn_recall)\n",
    "print('F1 Score:', nn_f1)\n",
    "print('Confusion Matrix:')\n",
    "print(nn_confusion)\n",
    "print('Matthews Correlation Coefficient:', nn_matthews)\n"
   ]
  },
  {
   "cell_type": "markdown",
   "metadata": {},
   "source": [
    "## 3 - Comparison"
   ]
  },
  {
   "cell_type": "code",
   "execution_count": 104,
   "metadata": {},
   "outputs": [
    {
     "name": "stdout",
     "output_type": "stream",
     "text": [
      "            Model  Matthews Correlation Coefficient  Accuracy  Precision  \\\n",
      "0           naive                          0.000000     0.965   1.000000   \n",
      "1   decision_tree                          0.685084     0.979   0.978983   \n",
      "2             knn                          0.414574     0.969   0.983541   \n",
      "3   random_forest                          0.754980     0.985   0.992852   \n",
      "4  neural_network                          0.532442     0.975   0.958416   \n",
      "\n",
      "   Recall  F1 Score  \n",
      "0   0.965  0.982188  \n",
      "1   0.979  0.978524  \n",
      "2   0.969  0.975240  \n",
      "3   0.985  0.988589  \n",
      "4   0.975  0.965411  \n"
     ]
    }
   ],
   "source": [
    "naive_results = {\n",
    "    \"Model\": \"naive\",\n",
    "    \"Matthews Correlation Coefficient\": naive_matthews,\n",
    "    \"Accuracy\": naive_accuracy,\n",
    "    \"Precision\": naive_precision,\n",
    "    \"Recall\": naive_recall,\n",
    "    \"F1 Score\": naive_f1\n",
    "}\n",
    "\n",
    "decision_tree_results = {\n",
    "    \"Model\": \"decision_tree\",\n",
    "    \"Matthews Correlation Coefficient\": decision_tree_matthews,\n",
    "    \"Accuracy\": decision_tree_accuracy,\n",
    "    \"Precision\": decision_tree_precision,\n",
    "    \"Recall\": decision_tree_recall,\n",
    "    \"F1 Score\": decision_tree_f1\n",
    "}\n",
    "\n",
    "knn_results = {\n",
    "    \"Model\": \"knn\",\n",
    "    \"Matthews Correlation Coefficient\": knn_matthews,\n",
    "    \"Accuracy\": knn_accuracy,\n",
    "    \"Precision\": knn_precision,\n",
    "    \"Recall\": knn_recall,\n",
    "    \"F1 Score\": knn_f1\n",
    "}\n",
    "\n",
    "random_forest_results = {\n",
    "    \"Model\": \"random_forest\",\n",
    "    \"Matthews Correlation Coefficient\": random_forest_matthews,\n",
    "    \"Accuracy\": random_forest_accuracy,\n",
    "    \"Precision\": random_forest_precision,\n",
    "    \"Recall\": random_forest_recall,\n",
    "    \"F1 Score\": random_forest_f1\n",
    "}\n",
    "\n",
    "neural_network_results = {\n",
    "    \"Model\": \"neural_network\",\n",
    "    \"Matthews Correlation Coefficient\": nn_matthews,\n",
    "    \"Accuracy\": nn_accuracy,\n",
    "    \"Precision\": nn_precision,\n",
    "    \"Recall\": nn_recall,\n",
    "    \"F1 Score\": nn_f1\n",
    "\n",
    "}\n",
    "\n",
    "results = [naive_results, decision_tree_results, knn_results, random_forest_results,neural_network_results]\n",
    "results_df = pd.DataFrame(results)\n",
    "print(results_df)\n",
    "results_df.to_excel('output.xlsx', index=False)\n",
    "\n"
   ]
  }
 ],
 "metadata": {
  "kernelspec": {
   "display_name": "base",
   "language": "python",
   "name": "python3"
  },
  "language_info": {
   "codemirror_mode": {
    "name": "ipython",
    "version": 3
   },
   "file_extension": ".py",
   "mimetype": "text/x-python",
   "name": "python",
   "nbconvert_exporter": "python",
   "pygments_lexer": "ipython3",
   "version": "3.11.7"
  }
 },
 "nbformat": 4,
 "nbformat_minor": 2
}
