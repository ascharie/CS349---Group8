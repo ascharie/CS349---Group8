{
 "cells": [
  {
   "cell_type": "code",
   "execution_count": 4,
   "metadata": {},
   "outputs": [],
   "source": [
    "# import packages\n",
    "import importlib\n",
    "import numpy as np\n",
    "import pandas as pd\n",
    "import matplotlib.pyplot as plt # import plotting module\n",
    "from sklearn.preprocessing import StandardScaler, OneHotEncoder, LabelEncoder # import preprocessing modules\n",
    "from sklearn.compose import ColumnTransformer # import column transformer class\n",
    "import sklearn.model_selection as train_test_split # import method for splitting data into training and testing sets\n",
    "from sklearn.metrics import confusion_matrix, precision_score, recall_score, f1_score, accuracy_score, matthews_corrcoef # import metrics\n",
    "from sklearn.tree import DecisionTreeClassifier # import decision tree classifier\n",
    "from sklearn.ensemble import RandomForestClassifier # import random forest classifier\n",
    "from sklearn.neighbors import KNeighborsClassifier # import k-nearest neighbors classifier\n",
    "import torch # import pytorch\n",
    "import torch.nn as nn # import pytorch for neural networks\n",
    "from torch.utils.data import DataLoader, Dataset # import dataset and dataloader classes\n",
    "\n",
    "\n",
    "# import modules\n",
    "import classify\n",
    "\n",
    "# check if gpu is available\n",
    "device = torch.device('cuda' if torch.cuda.is_available() else 'cpu')"
   ]
  },
  {
   "cell_type": "markdown",
   "metadata": {},
   "source": [
    "## 1 - Dataset"
   ]
  },
  {
   "cell_type": "code",
   "execution_count": 5,
   "metadata": {},
   "outputs": [
    {
     "data": {
      "text/html": [
       "<div>\n",
       "<style scoped>\n",
       "    .dataframe tbody tr th:only-of-type {\n",
       "        vertical-align: middle;\n",
       "    }\n",
       "\n",
       "    .dataframe tbody tr th {\n",
       "        vertical-align: top;\n",
       "    }\n",
       "\n",
       "    .dataframe thead th {\n",
       "        text-align: right;\n",
       "    }\n",
       "</style>\n",
       "<table border=\"1\" class=\"dataframe\">\n",
       "  <thead>\n",
       "    <tr style=\"text-align: right;\">\n",
       "      <th></th>\n",
       "      <th>UDI</th>\n",
       "      <th>Product ID</th>\n",
       "      <th>Type</th>\n",
       "      <th>Air temperature [K]</th>\n",
       "      <th>Process temperature [K]</th>\n",
       "      <th>Rotational speed [rpm]</th>\n",
       "      <th>Torque [Nm]</th>\n",
       "      <th>Tool wear [min]</th>\n",
       "      <th>Machine failure</th>\n",
       "      <th>TWF</th>\n",
       "      <th>HDF</th>\n",
       "      <th>PWF</th>\n",
       "      <th>OSF</th>\n",
       "      <th>RNF</th>\n",
       "    </tr>\n",
       "  </thead>\n",
       "  <tbody>\n",
       "    <tr>\n",
       "      <th>0</th>\n",
       "      <td>1</td>\n",
       "      <td>M14860</td>\n",
       "      <td>M</td>\n",
       "      <td>298.1</td>\n",
       "      <td>308.6</td>\n",
       "      <td>1551</td>\n",
       "      <td>42.8</td>\n",
       "      <td>0</td>\n",
       "      <td>0</td>\n",
       "      <td>0</td>\n",
       "      <td>0</td>\n",
       "      <td>0</td>\n",
       "      <td>0</td>\n",
       "      <td>0</td>\n",
       "    </tr>\n",
       "    <tr>\n",
       "      <th>1</th>\n",
       "      <td>2</td>\n",
       "      <td>L47181</td>\n",
       "      <td>L</td>\n",
       "      <td>298.2</td>\n",
       "      <td>308.7</td>\n",
       "      <td>1408</td>\n",
       "      <td>46.3</td>\n",
       "      <td>3</td>\n",
       "      <td>0</td>\n",
       "      <td>0</td>\n",
       "      <td>0</td>\n",
       "      <td>0</td>\n",
       "      <td>0</td>\n",
       "      <td>0</td>\n",
       "    </tr>\n",
       "    <tr>\n",
       "      <th>2</th>\n",
       "      <td>3</td>\n",
       "      <td>L47182</td>\n",
       "      <td>L</td>\n",
       "      <td>298.1</td>\n",
       "      <td>308.5</td>\n",
       "      <td>1498</td>\n",
       "      <td>49.4</td>\n",
       "      <td>5</td>\n",
       "      <td>0</td>\n",
       "      <td>0</td>\n",
       "      <td>0</td>\n",
       "      <td>0</td>\n",
       "      <td>0</td>\n",
       "      <td>0</td>\n",
       "    </tr>\n",
       "  </tbody>\n",
       "</table>\n",
       "</div>"
      ],
      "text/plain": [
       "   UDI Product ID Type  Air temperature [K]  Process temperature [K]  \\\n",
       "0    1     M14860    M                298.1                    308.6   \n",
       "1    2     L47181    L                298.2                    308.7   \n",
       "2    3     L47182    L                298.1                    308.5   \n",
       "\n",
       "   Rotational speed [rpm]  Torque [Nm]  Tool wear [min]  Machine failure  TWF  \\\n",
       "0                    1551         42.8                0                0    0   \n",
       "1                    1408         46.3                3                0    0   \n",
       "2                    1498         49.4                5                0    0   \n",
       "\n",
       "   HDF  PWF  OSF  RNF  \n",
       "0    0    0    0    0  \n",
       "1    0    0    0    0  \n",
       "2    0    0    0    0  "
      ]
     },
     "metadata": {},
     "output_type": "display_data"
    },
    {
     "name": "stdout",
     "output_type": "stream",
     "text": [
      "Shape of data: (10000, 14)\n"
     ]
    }
   ],
   "source": [
    "# read in data\n",
    "data = pd.read_csv('./Data/ai4i2020.csv')\n",
    "data_columns = ['UDI', 'Product ID', 'Type', 'Air temperature [K]', 'Process temperature [K]', 'Rotational speed [rpm]', 'Torque [Nm]', 'Tool wear [min]']\n",
    "label_columns = ['Machine failure', 'TWF', 'HDF', 'PWF', 'OSF', 'RNF']\n",
    "# identify features and labels\n",
    "numeric_features = ['Air temperature [K]', 'Process temperature [K]', 'Rotational speed [rpm]', 'Torque [Nm]', 'Tool wear [min]']\n",
    "categorical_features = ['Type']\n",
    "bin_labels = label_columns.copy()\n",
    "display(data.head(3))\n",
    "print('Shape of data:', data.shape)"
   ]
  },
  {
   "cell_type": "markdown",
   "metadata": {},
   "source": [
    "### Exploratory Data Analysis"
   ]
  },
  {
   "cell_type": "markdown",
   "metadata": {},
   "source": [
    "#### General Statistics"
   ]
  },
  {
   "cell_type": "code",
   "execution_count": 6,
   "metadata": {},
   "outputs": [
    {
     "name": "stdout",
     "output_type": "stream",
     "text": [
      "Numeric Feature Columns\n"
     ]
    },
    {
     "data": {
      "text/html": [
       "<div>\n",
       "<style scoped>\n",
       "    .dataframe tbody tr th:only-of-type {\n",
       "        vertical-align: middle;\n",
       "    }\n",
       "\n",
       "    .dataframe tbody tr th {\n",
       "        vertical-align: top;\n",
       "    }\n",
       "\n",
       "    .dataframe thead th {\n",
       "        text-align: right;\n",
       "    }\n",
       "</style>\n",
       "<table border=\"1\" class=\"dataframe\">\n",
       "  <thead>\n",
       "    <tr style=\"text-align: right;\">\n",
       "      <th></th>\n",
       "      <th>Air temperature [K]</th>\n",
       "      <th>Process temperature [K]</th>\n",
       "      <th>Rotational speed [rpm]</th>\n",
       "      <th>Torque [Nm]</th>\n",
       "      <th>Tool wear [min]</th>\n",
       "    </tr>\n",
       "  </thead>\n",
       "  <tbody>\n",
       "    <tr>\n",
       "      <th>mean</th>\n",
       "      <td>300.004930</td>\n",
       "      <td>310.005560</td>\n",
       "      <td>1538.776100</td>\n",
       "      <td>39.986910</td>\n",
       "      <td>107.951000</td>\n",
       "    </tr>\n",
       "    <tr>\n",
       "      <th>std</th>\n",
       "      <td>2.000259</td>\n",
       "      <td>1.483734</td>\n",
       "      <td>179.284096</td>\n",
       "      <td>9.968934</td>\n",
       "      <td>63.654147</td>\n",
       "    </tr>\n",
       "    <tr>\n",
       "      <th>min</th>\n",
       "      <td>295.300000</td>\n",
       "      <td>305.700000</td>\n",
       "      <td>1168.000000</td>\n",
       "      <td>3.800000</td>\n",
       "      <td>0.000000</td>\n",
       "    </tr>\n",
       "    <tr>\n",
       "      <th>max</th>\n",
       "      <td>304.500000</td>\n",
       "      <td>313.800000</td>\n",
       "      <td>2886.000000</td>\n",
       "      <td>76.600000</td>\n",
       "      <td>253.000000</td>\n",
       "    </tr>\n",
       "  </tbody>\n",
       "</table>\n",
       "</div>"
      ],
      "text/plain": [
       "      Air temperature [K]  Process temperature [K]  Rotational speed [rpm]  \\\n",
       "mean           300.004930               310.005560             1538.776100   \n",
       "std              2.000259                 1.483734              179.284096   \n",
       "min            295.300000               305.700000             1168.000000   \n",
       "max            304.500000               313.800000             2886.000000   \n",
       "\n",
       "      Torque [Nm]  Tool wear [min]  \n",
       "mean    39.986910       107.951000  \n",
       "std      9.968934        63.654147  \n",
       "min      3.800000         0.000000  \n",
       "max     76.600000       253.000000  "
      ]
     },
     "metadata": {},
     "output_type": "display_data"
    },
    {
     "name": "stdout",
     "output_type": "stream",
     "text": [
      "Label Columns\n"
     ]
    },
    {
     "data": {
      "text/html": [
       "<div>\n",
       "<style scoped>\n",
       "    .dataframe tbody tr th:only-of-type {\n",
       "        vertical-align: middle;\n",
       "    }\n",
       "\n",
       "    .dataframe tbody tr th {\n",
       "        vertical-align: top;\n",
       "    }\n",
       "\n",
       "    .dataframe thead th {\n",
       "        text-align: right;\n",
       "    }\n",
       "</style>\n",
       "<table border=\"1\" class=\"dataframe\">\n",
       "  <thead>\n",
       "    <tr style=\"text-align: right;\">\n",
       "      <th></th>\n",
       "      <th>Machine failure</th>\n",
       "      <th>TWF</th>\n",
       "      <th>HDF</th>\n",
       "      <th>PWF</th>\n",
       "      <th>OSF</th>\n",
       "      <th>RNF</th>\n",
       "    </tr>\n",
       "  </thead>\n",
       "  <tbody>\n",
       "    <tr>\n",
       "      <th>Failure Rate</th>\n",
       "      <td>0.0339</td>\n",
       "      <td>0.004600</td>\n",
       "      <td>0.011500</td>\n",
       "      <td>0.009500</td>\n",
       "      <td>0.009800</td>\n",
       "      <td>0.001900</td>\n",
       "    </tr>\n",
       "    <tr>\n",
       "      <th>Failure Type Proportion</th>\n",
       "      <td>1.0000</td>\n",
       "      <td>0.135693</td>\n",
       "      <td>0.339233</td>\n",
       "      <td>0.280236</td>\n",
       "      <td>0.289086</td>\n",
       "      <td>0.056047</td>\n",
       "    </tr>\n",
       "  </tbody>\n",
       "</table>\n",
       "</div>"
      ],
      "text/plain": [
       "                         Machine failure       TWF       HDF       PWF  \\\n",
       "Failure Rate                      0.0339  0.004600  0.011500  0.009500   \n",
       "Failure Type Proportion           1.0000  0.135693  0.339233  0.280236   \n",
       "\n",
       "                              OSF       RNF  \n",
       "Failure Rate             0.009800  0.001900  \n",
       "Failure Type Proportion  0.289086  0.056047  "
      ]
     },
     "metadata": {},
     "output_type": "display_data"
    }
   ],
   "source": [
    "print('Numeric Feature Columns')\n",
    "feature_stats = data[numeric_features].describe().drop(['count', '25%', '50%', '75%'])\n",
    "display(feature_stats)\n",
    "\n",
    "print('Label Columns')\n",
    "label_stats = data[bin_labels].describe().drop(['count', 'std', 'min', 'max', '25%', '50%', '75%']).rename(index={'mean': 'Failure Rate'})\n",
    "label_stats.loc['Failure Type Proportion'] = label_stats.loc['Failure Rate'] / label_stats.loc['Failure Rate', 'Machine failure']\n",
    "display(label_stats)"
   ]
  },
  {
   "cell_type": "markdown",
   "metadata": {},
   "source": [
    "#### Visualizations"
   ]
  },
  {
   "cell_type": "code",
   "execution_count": 7,
   "metadata": {},
   "outputs": [
    {
     "data": {
      "image/png": "[encoded data removed]",
      "text/plain": [
       "<Figure size 1600x300 with 5 Axes>"
      ]
     },
     "metadata": {},
     "output_type": "display_data"
    },
    {
     "data": {
      "image/png": "[encoded data removed]",
      "text/plain": [
       "<Figure size 300x300 with 1 Axes>"
      ]
     },
     "metadata": {},
     "output_type": "display_data"
    }
   ],
   "source": [
    "fig, axes = plt.subplots(1, 5, figsize=(16, 3))\n",
    "for idx in range(len(numeric_features)):\n",
    "    axes[idx].boxplot(data[numeric_features[idx]])\n",
    "    axes[idx].set_title(numeric_features[idx])\n",
    "    axes[idx].set_ylabel('Value')\n",
    "plt.show()\n",
    "\n",
    "fig, ax = plt.subplots(figsize=(3, 3))\n",
    "data[categorical_features[0]].value_counts().plot(kind='bar', ax=ax, color='skyblue')\n",
    "ax.set_title(categorical_features[0])\n",
    "ax.set_xlabel('Type')\n",
    "ax.set_ylabel('Count')\n",
    "ax.tick_params(axis='x', rotation=0)\n",
    "plt.show()\n",
    "\n"
   ]
  },
  {
   "cell_type": "markdown",
   "metadata": {},
   "source": [
    "#### Correlations"
   ]
  },
  {
   "cell_type": "code",
   "execution_count": 8,
   "metadata": {},
   "outputs": [
    {
     "name": "stdout",
     "output_type": "stream",
     "text": [
      "Correlation Matrix for Features\n"
     ]
    },
    {
     "data": {
      "text/html": [
       "<div>\n",
       "<style scoped>\n",
       "    .dataframe tbody tr th:only-of-type {\n",
       "        vertical-align: middle;\n",
       "    }\n",
       "\n",
       "    .dataframe tbody tr th {\n",
       "        vertical-align: top;\n",
       "    }\n",
       "\n",
       "    .dataframe thead th {\n",
       "        text-align: right;\n",
       "    }\n",
       "</style>\n",
       "<table border=\"1\" class=\"dataframe\">\n",
       "  <thead>\n",
       "    <tr style=\"text-align: right;\">\n",
       "      <th></th>\n",
       "      <th>Air temperature [K]</th>\n",
       "      <th>Process temperature [K]</th>\n",
       "      <th>Rotational speed [rpm]</th>\n",
       "      <th>Torque [Nm]</th>\n",
       "      <th>Tool wear [min]</th>\n",
       "    </tr>\n",
       "  </thead>\n",
       "  <tbody>\n",
       "    <tr>\n",
       "      <th>Air temperature [K]</th>\n",
       "      <td>1.000000</td>\n",
       "      <td>0.876107</td>\n",
       "      <td>0.022670</td>\n",
       "      <td>-0.013778</td>\n",
       "      <td>0.013853</td>\n",
       "    </tr>\n",
       "    <tr>\n",
       "      <th>Process temperature [K]</th>\n",
       "      <td>0.876107</td>\n",
       "      <td>1.000000</td>\n",
       "      <td>0.019277</td>\n",
       "      <td>-0.014061</td>\n",
       "      <td>0.013488</td>\n",
       "    </tr>\n",
       "    <tr>\n",
       "      <th>Rotational speed [rpm]</th>\n",
       "      <td>0.022670</td>\n",
       "      <td>0.019277</td>\n",
       "      <td>1.000000</td>\n",
       "      <td>-0.875027</td>\n",
       "      <td>0.000223</td>\n",
       "    </tr>\n",
       "    <tr>\n",
       "      <th>Torque [Nm]</th>\n",
       "      <td>-0.013778</td>\n",
       "      <td>-0.014061</td>\n",
       "      <td>-0.875027</td>\n",
       "      <td>1.000000</td>\n",
       "      <td>-0.003093</td>\n",
       "    </tr>\n",
       "    <tr>\n",
       "      <th>Tool wear [min]</th>\n",
       "      <td>0.013853</td>\n",
       "      <td>0.013488</td>\n",
       "      <td>0.000223</td>\n",
       "      <td>-0.003093</td>\n",
       "      <td>1.000000</td>\n",
       "    </tr>\n",
       "  </tbody>\n",
       "</table>\n",
       "</div>"
      ],
      "text/plain": [
       "                         Air temperature [K]  Process temperature [K]  \\\n",
       "Air temperature [K]                 1.000000                 0.876107   \n",
       "Process temperature [K]             0.876107                 1.000000   \n",
       "Rotational speed [rpm]              0.022670                 0.019277   \n",
       "Torque [Nm]                        -0.013778                -0.014061   \n",
       "Tool wear [min]                     0.013853                 0.013488   \n",
       "\n",
       "                         Rotational speed [rpm]  Torque [Nm]  Tool wear [min]  \n",
       "Air temperature [K]                    0.022670    -0.013778         0.013853  \n",
       "Process temperature [K]                0.019277    -0.014061         0.013488  \n",
       "Rotational speed [rpm]                 1.000000    -0.875027         0.000223  \n",
       "Torque [Nm]                           -0.875027     1.000000        -0.003093  \n",
       "Tool wear [min]                        0.000223    -0.003093         1.000000  "
      ]
     },
     "execution_count": 8,
     "metadata": {},
     "output_type": "execute_result"
    }
   ],
   "source": [
    "print('Correlation Matrix for Features')\n",
    "data[numeric_features].corr()"
   ]
  },
  {
   "cell_type": "markdown",
   "metadata": {},
   "source": [
    "### Data Restructuring\n",
    "Multi-label versus multi-class classification? (problem: hardly any RNF failures)"
   ]
  },
  {
   "cell_type": "code",
   "execution_count": 9,
   "metadata": {},
   "outputs": [],
   "source": [
    "def determine_failure_mode(event, specify_multiple):\n",
    "    failure_modes = [failure for failure in bin_labels[1:] if event[failure] == 1]\n",
    "    if not failure_modes:\n",
    "        return 'No failure'\n",
    "    elif specify_multiple:\n",
    "        return '_'.join(failure_modes)\n",
    "    else:\n",
    "        return failure_modes[0] if len(failure_modes) == 1 else 'Multiple failures'"
   ]
  },
  {
   "cell_type": "code",
   "execution_count": 10,
   "metadata": {},
   "outputs": [
    {
     "data": {
      "text/plain": [
       "No failure           9652\n",
       "HDF                   106\n",
       "PWF                    80\n",
       "OSF                    78\n",
       "TWF                    42\n",
       "Multiple failures      24\n",
       "RNF                    18\n",
       "Name: Failure Mode, dtype: int64"
      ]
     },
     "metadata": {},
     "output_type": "display_data"
    }
   ],
   "source": [
    "specify_multiple = False # what label to assign to events with multiple failures\n",
    "data['Failure Mode'] = data.apply(lambda event: determine_failure_mode(event = event, specify_multiple = specify_multiple), axis=1)\n",
    "categorical_labels = ['Failure Mode']\n",
    "labels = bin_labels + categorical_labels\n",
    "features = numeric_features + categorical_features\n",
    "display(data['Failure Mode'].value_counts())"
   ]
  },
  {
   "cell_type": "markdown",
   "metadata": {},
   "source": [
    "### Data Encoding and Normalization"
   ]
  },
  {
   "cell_type": "code",
   "execution_count": 11,
   "metadata": {},
   "outputs": [],
   "source": [
    "preprocessor = ColumnTransformer(\n",
    "    transformers=[\n",
    "        ('num', StandardScaler(), numeric_features),\n",
    "        ('cat', OneHotEncoder(), categorical_features)\n",
    "    ]\n",
    ")\n",
    "label_encoder = LabelEncoder()"
   ]
  },
  {
   "cell_type": "code",
   "execution_count": 12,
   "metadata": {},
   "outputs": [],
   "source": [
    "X = pd.DataFrame(preprocessor.fit_transform(data[features]), columns = preprocessor.get_feature_names_out())\n",
    "# y = data[labels]\n",
    "# fit transform to categorical labels and combine back with numeric labels\n",
    "y_categorical_encoded = pd.DataFrame(label_encoder.fit_transform(data['Failure Mode']), columns = ['Failure Mode'])\n",
    "y = pd.concat([data[bin_labels], y_categorical_encoded], axis=1)"
   ]
  },
  {
   "cell_type": "markdown",
   "metadata": {},
   "source": [
    "#### Final Data Format"
   ]
  },
  {
   "cell_type": "code",
   "execution_count": 13,
   "metadata": {},
   "outputs": [
    {
     "data": {
      "text/html": [
       "<div>\n",
       "<style scoped>\n",
       "    .dataframe tbody tr th:only-of-type {\n",
       "        vertical-align: middle;\n",
       "    }\n",
       "\n",
       "    .dataframe tbody tr th {\n",
       "        vertical-align: top;\n",
       "    }\n",
       "\n",
       "    .dataframe thead th {\n",
       "        text-align: right;\n",
       "    }\n",
       "</style>\n",
       "<table border=\"1\" class=\"dataframe\">\n",
       "  <thead>\n",
       "    <tr style=\"text-align: right;\">\n",
       "      <th></th>\n",
       "      <th>num__Air temperature [K]</th>\n",
       "      <th>num__Process temperature [K]</th>\n",
       "      <th>num__Rotational speed [rpm]</th>\n",
       "      <th>num__Torque [Nm]</th>\n",
       "      <th>num__Tool wear [min]</th>\n",
       "      <th>cat__Type_H</th>\n",
       "      <th>cat__Type_L</th>\n",
       "      <th>cat__Type_M</th>\n",
       "    </tr>\n",
       "  </thead>\n",
       "  <tbody>\n",
       "    <tr>\n",
       "      <th>0</th>\n",
       "      <td>-0.952389</td>\n",
       "      <td>-0.947360</td>\n",
       "      <td>0.068185</td>\n",
       "      <td>0.282200</td>\n",
       "      <td>-1.695984</td>\n",
       "      <td>0.0</td>\n",
       "      <td>0.0</td>\n",
       "      <td>1.0</td>\n",
       "    </tr>\n",
       "    <tr>\n",
       "      <th>1</th>\n",
       "      <td>-0.902393</td>\n",
       "      <td>-0.879959</td>\n",
       "      <td>-0.729472</td>\n",
       "      <td>0.633308</td>\n",
       "      <td>-1.648852</td>\n",
       "      <td>0.0</td>\n",
       "      <td>1.0</td>\n",
       "      <td>0.0</td>\n",
       "    </tr>\n",
       "    <tr>\n",
       "      <th>2</th>\n",
       "      <td>-0.952389</td>\n",
       "      <td>-1.014761</td>\n",
       "      <td>-0.227450</td>\n",
       "      <td>0.944290</td>\n",
       "      <td>-1.617430</td>\n",
       "      <td>0.0</td>\n",
       "      <td>1.0</td>\n",
       "      <td>0.0</td>\n",
       "    </tr>\n",
       "  </tbody>\n",
       "</table>\n",
       "</div>"
      ],
      "text/plain": [
       "   num__Air temperature [K]  num__Process temperature [K]  \\\n",
       "0                 -0.952389                     -0.947360   \n",
       "1                 -0.902393                     -0.879959   \n",
       "2                 -0.952389                     -1.014761   \n",
       "\n",
       "   num__Rotational speed [rpm]  num__Torque [Nm]  num__Tool wear [min]  \\\n",
       "0                     0.068185          0.282200             -1.695984   \n",
       "1                    -0.729472          0.633308             -1.648852   \n",
       "2                    -0.227450          0.944290             -1.617430   \n",
       "\n",
       "   cat__Type_H  cat__Type_L  cat__Type_M  \n",
       "0          0.0          0.0          1.0  \n",
       "1          0.0          1.0          0.0  \n",
       "2          0.0          1.0          0.0  "
      ]
     },
     "metadata": {},
     "output_type": "display_data"
    },
    {
     "data": {
      "text/html": [
       "<div>\n",
       "<style scoped>\n",
       "    .dataframe tbody tr th:only-of-type {\n",
       "        vertical-align: middle;\n",
       "    }\n",
       "\n",
       "    .dataframe tbody tr th {\n",
       "        vertical-align: top;\n",
       "    }\n",
       "\n",
       "    .dataframe thead th {\n",
       "        text-align: right;\n",
       "    }\n",
       "</style>\n",
       "<table border=\"1\" class=\"dataframe\">\n",
       "  <thead>\n",
       "    <tr style=\"text-align: right;\">\n",
       "      <th></th>\n",
       "      <th>Machine failure</th>\n",
       "      <th>TWF</th>\n",
       "      <th>HDF</th>\n",
       "      <th>PWF</th>\n",
       "      <th>OSF</th>\n",
       "      <th>RNF</th>\n",
       "      <th>Failure Mode</th>\n",
       "    </tr>\n",
       "  </thead>\n",
       "  <tbody>\n",
       "    <tr>\n",
       "      <th>0</th>\n",
       "      <td>0</td>\n",
       "      <td>0</td>\n",
       "      <td>0</td>\n",
       "      <td>0</td>\n",
       "      <td>0</td>\n",
       "      <td>0</td>\n",
       "      <td>2</td>\n",
       "    </tr>\n",
       "    <tr>\n",
       "      <th>1</th>\n",
       "      <td>0</td>\n",
       "      <td>0</td>\n",
       "      <td>0</td>\n",
       "      <td>0</td>\n",
       "      <td>0</td>\n",
       "      <td>0</td>\n",
       "      <td>2</td>\n",
       "    </tr>\n",
       "    <tr>\n",
       "      <th>2</th>\n",
       "      <td>0</td>\n",
       "      <td>0</td>\n",
       "      <td>0</td>\n",
       "      <td>0</td>\n",
       "      <td>0</td>\n",
       "      <td>0</td>\n",
       "      <td>2</td>\n",
       "    </tr>\n",
       "  </tbody>\n",
       "</table>\n",
       "</div>"
      ],
      "text/plain": [
       "   Machine failure  TWF  HDF  PWF  OSF  RNF  Failure Mode\n",
       "0                0    0    0    0    0    0             2\n",
       "1                0    0    0    0    0    0             2\n",
       "2                0    0    0    0    0    0             2"
      ]
     },
     "metadata": {},
     "output_type": "display_data"
    },
    {
     "name": "stdout",
     "output_type": "stream",
     "text": [
      "Numeric features: ['Air temperature [K]', 'Process temperature [K]', 'Rotational speed [rpm]', 'Torque [Nm]', 'Tool wear [min]']\n",
      "Categorical features: ['Type']\n",
      "Labels:  ['Machine failure', 'TWF', 'HDF', 'PWF', 'OSF', 'RNF', 'Failure Mode']\n"
     ]
    }
   ],
   "source": [
    "display(X.head(3))\n",
    "display(y.head(3))\n",
    "print('Numeric features:', numeric_features)\n",
    "print('Categorical features:', categorical_features)\n",
    "print('Labels: ', labels)"
   ]
  },
  {
   "cell_type": "markdown",
   "metadata": {},
   "source": [
    "### Train Test Split"
   ]
  },
  {
   "cell_type": "code",
   "execution_count": 14,
   "metadata": {},
   "outputs": [
    {
     "name": "stdout",
     "output_type": "stream",
     "text": [
      "Shape of training data: (7200, 8)\n",
      "Shape of validation data: (1800, 8)\n",
      "Shape of test data: (1000, 8)\n"
     ]
    },
    {
     "data": {
      "text/html": [
       "<div>\n",
       "<style scoped>\n",
       "    .dataframe tbody tr th:only-of-type {\n",
       "        vertical-align: middle;\n",
       "    }\n",
       "\n",
       "    .dataframe tbody tr th {\n",
       "        vertical-align: top;\n",
       "    }\n",
       "\n",
       "    .dataframe thead th {\n",
       "        text-align: right;\n",
       "    }\n",
       "</style>\n",
       "<table border=\"1\" class=\"dataframe\">\n",
       "  <thead>\n",
       "    <tr style=\"text-align: right;\">\n",
       "      <th></th>\n",
       "      <th>num__Air temperature [K]</th>\n",
       "      <th>num__Process temperature [K]</th>\n",
       "      <th>num__Rotational speed [rpm]</th>\n",
       "      <th>num__Torque [Nm]</th>\n",
       "      <th>num__Tool wear [min]</th>\n",
       "      <th>cat__Type_H</th>\n",
       "      <th>cat__Type_L</th>\n",
       "      <th>cat__Type_M</th>\n",
       "    </tr>\n",
       "  </thead>\n",
       "  <tbody>\n",
       "    <tr>\n",
       "      <th>7604</th>\n",
       "      <td>0.197519</td>\n",
       "      <td>0.872464</td>\n",
       "      <td>0.559051</td>\n",
       "      <td>-0.540397</td>\n",
       "      <td>-1.318927</td>\n",
       "      <td>0.0</td>\n",
       "      <td>1.0</td>\n",
       "      <td>0.0</td>\n",
       "    </tr>\n",
       "    <tr>\n",
       "      <th>4593</th>\n",
       "      <td>1.497416</td>\n",
       "      <td>0.805063</td>\n",
       "      <td>-0.723893</td>\n",
       "      <td>0.191915</td>\n",
       "      <td>-0.156337</td>\n",
       "      <td>0.0</td>\n",
       "      <td>1.0</td>\n",
       "      <td>0.0</td>\n",
       "    </tr>\n",
       "    <tr>\n",
       "      <th>7976</th>\n",
       "      <td>0.597488</td>\n",
       "      <td>1.613874</td>\n",
       "      <td>-0.801986</td>\n",
       "      <td>0.783783</td>\n",
       "      <td>-0.282022</td>\n",
       "      <td>1.0</td>\n",
       "      <td>0.0</td>\n",
       "      <td>0.0</td>\n",
       "    </tr>\n",
       "  </tbody>\n",
       "</table>\n",
       "</div>"
      ],
      "text/plain": [
       "      num__Air temperature [K]  num__Process temperature [K]  \\\n",
       "7604                  0.197519                      0.872464   \n",
       "4593                  1.497416                      0.805063   \n",
       "7976                  0.597488                      1.613874   \n",
       "\n",
       "      num__Rotational speed [rpm]  num__Torque [Nm]  num__Tool wear [min]  \\\n",
       "7604                     0.559051         -0.540397             -1.318927   \n",
       "4593                    -0.723893          0.191915             -0.156337   \n",
       "7976                    -0.801986          0.783783             -0.282022   \n",
       "\n",
       "      cat__Type_H  cat__Type_L  cat__Type_M  \n",
       "7604          0.0          1.0          0.0  \n",
       "4593          0.0          1.0          0.0  \n",
       "7976          1.0          0.0          0.0  "
      ]
     },
     "metadata": {},
     "output_type": "display_data"
    },
    {
     "data": {
      "text/html": [
       "<div>\n",
       "<style scoped>\n",
       "    .dataframe tbody tr th:only-of-type {\n",
       "        vertical-align: middle;\n",
       "    }\n",
       "\n",
       "    .dataframe tbody tr th {\n",
       "        vertical-align: top;\n",
       "    }\n",
       "\n",
       "    .dataframe thead th {\n",
       "        text-align: right;\n",
       "    }\n",
       "</style>\n",
       "<table border=\"1\" class=\"dataframe\">\n",
       "  <thead>\n",
       "    <tr style=\"text-align: right;\">\n",
       "      <th></th>\n",
       "      <th>Machine failure</th>\n",
       "      <th>TWF</th>\n",
       "      <th>HDF</th>\n",
       "      <th>PWF</th>\n",
       "      <th>OSF</th>\n",
       "      <th>RNF</th>\n",
       "      <th>Failure Mode</th>\n",
       "    </tr>\n",
       "  </thead>\n",
       "  <tbody>\n",
       "    <tr>\n",
       "      <th>7604</th>\n",
       "      <td>0</td>\n",
       "      <td>0</td>\n",
       "      <td>0</td>\n",
       "      <td>0</td>\n",
       "      <td>0</td>\n",
       "      <td>0</td>\n",
       "      <td>2</td>\n",
       "    </tr>\n",
       "    <tr>\n",
       "      <th>4593</th>\n",
       "      <td>0</td>\n",
       "      <td>0</td>\n",
       "      <td>0</td>\n",
       "      <td>0</td>\n",
       "      <td>0</td>\n",
       "      <td>0</td>\n",
       "      <td>2</td>\n",
       "    </tr>\n",
       "    <tr>\n",
       "      <th>7976</th>\n",
       "      <td>0</td>\n",
       "      <td>0</td>\n",
       "      <td>0</td>\n",
       "      <td>0</td>\n",
       "      <td>0</td>\n",
       "      <td>0</td>\n",
       "      <td>2</td>\n",
       "    </tr>\n",
       "  </tbody>\n",
       "</table>\n",
       "</div>"
      ],
      "text/plain": [
       "      Machine failure  TWF  HDF  PWF  OSF  RNF  Failure Mode\n",
       "7604                0    0    0    0    0    0             2\n",
       "4593                0    0    0    0    0    0             2\n",
       "7976                0    0    0    0    0    0             2"
      ]
     },
     "metadata": {},
     "output_type": "display_data"
    }
   ],
   "source": [
    "X_remainder, X_test, y_remainder, y_test = train_test_split.train_test_split(X, y, test_size=0.1, stratify=data['Failure Mode'], random_state=42)\n",
    "X_train, X_val, y_train, y_val = train_test_split.train_test_split(X_remainder, y_remainder, test_size=0.2, stratify=y_remainder['Failure Mode'], random_state=42)\n",
    "print('Shape of training data:', X_train.shape)\n",
    "print('Shape of validation data:', X_val.shape)\n",
    "print('Shape of test data:', X_test.shape)\n",
    "display(X_train.head(3), y_train.head(3))"
   ]
  },
  {
   "cell_type": "markdown",
   "metadata": {},
   "source": [
    "## 2 - Classifiers"
   ]
  },
  {
   "cell_type": "markdown",
   "metadata": {},
   "source": [
    "### Naive Classifier\n",
    "Baseline 1"
   ]
  },
  {
   "cell_type": "code",
   "execution_count": 15,
   "metadata": {},
   "outputs": [],
   "source": [
    "def naive_classify(data):\n",
    "    labels = [label_encoder.transform(['No failure']) for i in range(data.shape[0])]\n",
    "    return labels"
   ]
  },
  {
   "cell_type": "code",
   "execution_count": 16,
   "metadata": {},
   "outputs": [
    {
     "name": "stdout",
     "output_type": "stream",
     "text": [
      "Naive Classifier\n",
      "Accuracy: 0.965\n",
      "Precision: 1.0\n",
      "Recall: 0.965\n",
      "F1 Score: 0.9821882951653944\n",
      "Confusion Matrix:\n",
      "[[  0   0   0   0   0   0   0]\n",
      " [  0   0   0   0   0   0   0]\n",
      " [ 11   2 965   8   8   2   4]\n",
      " [  0   0   0   0   0   0   0]\n",
      " [  0   0   0   0   0   0   0]\n",
      " [  0   0   0   0   0   0   0]\n",
      " [  0   0   0   0   0   0   0]]\n",
      "Matthews Correlation Coefficient: 0.0\n"
     ]
    },
    {
     "name": "stderr",
     "output_type": "stream",
     "text": [
      "/Users/minghui/anaconda3/lib/python3.11/site-packages/sklearn/metrics/_classification.py:1469: UndefinedMetricWarning: Recall is ill-defined and being set to 0.0 in labels with no true samples. Use `zero_division` parameter to control this behavior.\n",
      "  _warn_prf(average, modifier, msg_start, len(result))\n"
     ]
    }
   ],
   "source": [
    "importlib.reload(classify)\n",
    "\n",
    "naive_labels = naive_classify(X_test)\n",
    "naive_accuracy = accuracy_score(naive_labels, y_test['Failure Mode'])\n",
    "naive_precision = precision_score(naive_labels, y_test['Failure Mode'], average='weighted')\n",
    "naive_recall = recall_score(naive_labels, y_test['Failure Mode'], average='weighted')\n",
    "naive_f1 = f1_score(naive_labels, y_test['Failure Mode'], average='weighted')\n",
    "naive_confusion = confusion_matrix(naive_labels, y_test['Failure Mode'])\n",
    "naive_matthews = matthews_corrcoef(naive_labels, y_test['Failure Mode'])\n",
    "\n",
    "print('Naive Classifier')\n",
    "print('Accuracy:', naive_accuracy)\n",
    "print('Precision:', naive_precision)\n",
    "print('Recall:', naive_recall)\n",
    "print('F1 Score:', naive_f1)\n",
    "print('Confusion Matrix:')\n",
    "print(naive_confusion)\n",
    "print('Matthews Correlation Coefficient:', naive_matthews)"
   ]
  },
  {
   "cell_type": "markdown",
   "metadata": {},
   "source": [
    "### Decision Tree\n",
    "Baseline 2"
   ]
  },
  {
   "cell_type": "code",
   "execution_count": 17,
   "metadata": {},
   "outputs": [
    {
     "name": "stdout",
     "output_type": "stream",
     "text": [
      "Decision Tree Classifier\n",
      "Accuracy: 0.979\n",
      "Precision: 0.9789834196891192\n",
      "Recall: 0.979\n",
      "F1 Score: 0.9785240165631469\n",
      "Confusion Matrix:\n",
      "[[ 11   0   0   0   0   0   0]\n",
      " [  0   1   0   0   0   0   0]\n",
      " [  0   0 957   2   4   2   2]\n",
      " [  0   1   1   5   0   0   1]\n",
      " [  0   0   0   0   4   0   0]\n",
      " [  0   0   3   0   0   0   0]\n",
      " [  0   0   4   1   0   0   1]]\n",
      "Matthews Correlation Coefficient: 0.6850840182907083\n"
     ]
    }
   ],
   "source": [
    "importlib.reload(classify)\n",
    "\n",
    "decision_tree = DecisionTreeClassifier(random_state=42)\n",
    "decision_tree.fit(X_train, y_train['Failure Mode'])\n",
    "decision_tree_labels = decision_tree.predict(X_test)\n",
    "decision_tree_accuracy = accuracy_score(decision_tree_labels, y_test['Failure Mode'])\n",
    "decision_tree_precision = precision_score(decision_tree_labels, y_test['Failure Mode'], average='weighted')\n",
    "decision_tree_recall = recall_score(decision_tree_labels, y_test['Failure Mode'], average='weighted')\n",
    "decision_tree_f1 = f1_score(decision_tree_labels, y_test['Failure Mode'], average='weighted')\n",
    "decision_tree_confusion = confusion_matrix(decision_tree_labels, y_test['Failure Mode'])\n",
    "decision_tree_matthews = matthews_corrcoef(decision_tree_labels, y_test['Failure Mode'])\n",
    "\n",
    "print('Decision Tree Classifier')\n",
    "print('Accuracy:', decision_tree_accuracy)\n",
    "print('Precision:', decision_tree_precision)\n",
    "print('Recall:', decision_tree_recall)\n",
    "print('F1 Score:', decision_tree_f1)\n",
    "print('Confusion Matrix:')\n",
    "print(decision_tree_confusion)\n",
    "print('Matthews Correlation Coefficient:', decision_tree_matthews)"
   ]
  },
  {
   "cell_type": "code",
   "execution_count": 18,
   "metadata": {},
   "outputs": [
    {
     "name": "stdout",
     "output_type": "stream",
     "text": [
      "Random Forest Classifier\n",
      "Accuracy: 0.985\n",
      "Precision: 0.9928522020725389\n",
      "Recall: 0.985\n",
      "F1 Score: 0.9885893642678806\n",
      "Confusion Matrix:\n",
      "[[ 10   0   1   0   0   0   0]\n",
      " [  0   2   0   0   0   0   0]\n",
      " [  1   0 963   3   3   2   4]\n",
      " [  0   0   0   5   0   0   0]\n",
      " [  0   0   1   0   5   0   0]\n",
      " [  0   0   0   0   0   0   0]\n",
      " [  0   0   0   0   0   0   0]]\n",
      "Matthews Correlation Coefficient: 0.7549800149511631\n"
     ]
    },
    {
     "name": "stderr",
     "output_type": "stream",
     "text": [
      "/Users/minghui/anaconda3/lib/python3.11/site-packages/sklearn/metrics/_classification.py:1469: UndefinedMetricWarning: Recall is ill-defined and being set to 0.0 in labels with no true samples. Use `zero_division` parameter to control this behavior.\n",
      "  _warn_prf(average, modifier, msg_start, len(result))\n"
     ]
    }
   ],
   "source": [
    "importlib.reload(classify)\n",
    "\n",
    "random_forest = RandomForestClassifier(random_state=42)\n",
    "random_forest.fit(X_train, y_train['Failure Mode'])\n",
    "random_forest_labels = random_forest.predict(X_test)\n",
    "random_forest_accuracy = accuracy_score(random_forest_labels, y_test['Failure Mode'])\n",
    "random_forest_precision = precision_score(random_forest_labels, y_test['Failure Mode'], average='weighted')\n",
    "random_forest_recall = recall_score(random_forest_labels, y_test['Failure Mode'], average='weighted')\n",
    "random_forest_f1 = f1_score(random_forest_labels, y_test['Failure Mode'], average='weighted')\n",
    "random_forest_confusion = confusion_matrix(random_forest_labels, y_test['Failure Mode'])\n",
    "random_forest_matthews = matthews_corrcoef(random_forest_labels, y_test['Failure Mode'])\n",
    "\n",
    "print('Random Forest Classifier')\n",
    "print('Accuracy:', random_forest_accuracy)\n",
    "print('Precision:', random_forest_precision)\n",
    "print('Recall:', random_forest_recall)\n",
    "print('F1 Score:', random_forest_f1)\n",
    "print('Confusion Matrix:')\n",
    "print(random_forest_confusion)\n",
    "print('Matthews Correlation Coefficient:', random_forest_matthews)"
   ]
  },
  {
   "cell_type": "markdown",
   "metadata": {},
   "source": [
    "### k-NN"
   ]
  },
  {
   "cell_type": "code",
   "execution_count": 19,
   "metadata": {},
   "outputs": [
    {
     "name": "stdout",
     "output_type": "stream",
     "text": [
      "K-Nearest Neighbors Classifier\n",
      "Accuracy: 0.969\n",
      "Precision: 0.983540956194065\n",
      "Recall: 0.969\n",
      "F1 Score: 0.9752398059610989\n",
      "Confusion Matrix:\n",
      "[[  3   0   4   0   0   0   0]\n",
      " [  0   2   0   0   0   0   0]\n",
      " [  8   0 959   6   6   2   3]\n",
      " [  0   0   0   2   0   0   0]\n",
      " [  0   0   1   0   2   0   0]\n",
      " [  0   0   0   0   0   0   0]\n",
      " [  0   0   1   0   0   0   1]]\n",
      "Matthews Correlation Coefficient: 0.41457363734590097\n"
     ]
    },
    {
     "name": "stderr",
     "output_type": "stream",
     "text": [
      "/Users/minghui/anaconda3/lib/python3.11/site-packages/sklearn/metrics/_classification.py:1469: UndefinedMetricWarning: Recall is ill-defined and being set to 0.0 in labels with no true samples. Use `zero_division` parameter to control this behavior.\n",
      "  _warn_prf(average, modifier, msg_start, len(result))\n"
     ]
    }
   ],
   "source": [
    "importlib.reload(classify)\n",
    "\n",
    "knn = KNeighborsClassifier(n_neighbors=3)\n",
    "knn.fit(X_train, y_train['Failure Mode'])\n",
    "knn_labels = knn.predict(X_test)\n",
    "knn_accuracy = accuracy_score(knn_labels, y_test['Failure Mode'])\n",
    "knn_precision = precision_score(knn_labels, y_test['Failure Mode'], average='weighted')\n",
    "knn_recall = recall_score(knn_labels, y_test['Failure Mode'], average='weighted')\n",
    "knn_f1 = f1_score(knn_labels, y_test['Failure Mode'], average='weighted')\n",
    "knn_confusion = confusion_matrix(knn_labels, y_test['Failure Mode'])\n",
    "knn_matthews = matthews_corrcoef(knn_labels, y_test['Failure Mode'])\n",
    "\n",
    "print('K-Nearest Neighbors Classifier')\n",
    "print('Accuracy:', knn_accuracy)\n",
    "print('Precision:', knn_precision)\n",
    "print('Recall:', knn_recall)\n",
    "print('F1 Score:', knn_f1)\n",
    "print('Confusion Matrix:')\n",
    "print(knn_confusion)\n",
    "print('Matthews Correlation Coefficient:', knn_matthews)"
   ]
  },
  {
   "cell_type": "markdown",
   "metadata": {},
   "source": [
    "### Neural Network"
   ]
  },
  {
   "cell_type": "code",
   "execution_count": 20,
   "metadata": {},
   "outputs": [],
   "source": [
    "class Data(Dataset):\n",
    "  def __init__(self, data, targets):\n",
    "    self.data = torch.tensor(data.to_numpy(), dtype=torch.float32)\n",
    "    self.labels = torch.tensor(targets.to_numpy(), dtype=torch.float32)\n",
    "\n",
    "  def __len__(self):\n",
    "    return self.data.shape[0]\n",
    "  \n",
    "  def __getitem__(self, idx):\n",
    "    return self.data[idx], self.labels[idx]\n",
    "\n",
    "class FeedForward(nn.Module):\n",
    "  def __init__(self, size_in, size_out, k):\n",
    "    super(FeedForward, self).__init__()\n",
    "    self.linearStack = nn.Sequential(\n",
    "        nn.Linear(size_in, k),\n",
    "        nn.Tanh(),\n",
    "        nn.Linear(k, size_out),\n",
    "        nn.Tanh()\n",
    "    )\n",
    "  \n",
    "  def forward(self, x):\n",
    "    x = self.linearStack(x)\n",
    "    return x\n",
    "  \n",
    "def train_model(model, dataloader, criterion, optimizer, device):\n",
    "  model.train()\n",
    "  tot_train_loss = 0\n",
    "  for data, target in dataloader:\n",
    "      data, target = data.to(device), target.to(device)\n",
    "      optimizer.zero_grad()\n",
    "      output = model(data).squeeze()\n",
    "      loss = criterion(output, target)\n",
    "      loss.backward()\n",
    "      optimizer.step()\n",
    "      tot_train_loss += loss.item()\n",
    "  return tot_train_loss / len(dataloader)\n",
    "\n",
    "def evaluate_model(model, dataloader, criterion, device):\n",
    "  model.eval()\n",
    "  targets = []\n",
    "  predictions = []\n",
    "  total_loss = 0\n",
    "  with torch.no_grad():\n",
    "      for data, target in dataloader:\n",
    "          data, target = data.to(device), target.to(device)\n",
    "          output = model(data).squeeze()\n",
    "          loss = criterion(output, target)\n",
    "          total_loss += loss.item()\n",
    "          predictions.extend(output.cpu().numpy())\n",
    "          targets.extend(target.cpu().numpy())\n",
    "  # Calculate binary classification metrics\n",
    "  predictions = np.array(predictions) > 0.5  # Threshold at 0.5\n",
    "  accuracy = accuracy_score(targets, predictions)\n",
    "  avg_loss = total_loss / len(dataloader)\n",
    "  return predictions, accuracy, avg_loss"
   ]
  },
  {
   "cell_type": "code",
   "execution_count": 21,
   "metadata": {},
   "outputs": [
    {
     "data": {
      "text/html": [
       "<div>\n",
       "<style scoped>\n",
       "    .dataframe tbody tr th:only-of-type {\n",
       "        vertical-align: middle;\n",
       "    }\n",
       "\n",
       "    .dataframe tbody tr th {\n",
       "        vertical-align: top;\n",
       "    }\n",
       "\n",
       "    .dataframe thead th {\n",
       "        text-align: right;\n",
       "    }\n",
       "</style>\n",
       "<table border=\"1\" class=\"dataframe\">\n",
       "  <thead>\n",
       "    <tr style=\"text-align: right;\">\n",
       "      <th></th>\n",
       "      <th>Machine failure</th>\n",
       "      <th>TWF</th>\n",
       "      <th>HDF</th>\n",
       "      <th>PWF</th>\n",
       "      <th>OSF</th>\n",
       "      <th>RNF</th>\n",
       "      <th>Failure Mode</th>\n",
       "    </tr>\n",
       "  </thead>\n",
       "  <tbody>\n",
       "    <tr>\n",
       "      <th>7604</th>\n",
       "      <td>0</td>\n",
       "      <td>0</td>\n",
       "      <td>0</td>\n",
       "      <td>0</td>\n",
       "      <td>0</td>\n",
       "      <td>0</td>\n",
       "      <td>2</td>\n",
       "    </tr>\n",
       "    <tr>\n",
       "      <th>4593</th>\n",
       "      <td>0</td>\n",
       "      <td>0</td>\n",
       "      <td>0</td>\n",
       "      <td>0</td>\n",
       "      <td>0</td>\n",
       "      <td>0</td>\n",
       "      <td>2</td>\n",
       "    </tr>\n",
       "    <tr>\n",
       "      <th>7976</th>\n",
       "      <td>0</td>\n",
       "      <td>0</td>\n",
       "      <td>0</td>\n",
       "      <td>0</td>\n",
       "      <td>0</td>\n",
       "      <td>0</td>\n",
       "      <td>2</td>\n",
       "    </tr>\n",
       "    <tr>\n",
       "      <th>1576</th>\n",
       "      <td>0</td>\n",
       "      <td>0</td>\n",
       "      <td>0</td>\n",
       "      <td>0</td>\n",
       "      <td>0</td>\n",
       "      <td>0</td>\n",
       "      <td>2</td>\n",
       "    </tr>\n",
       "    <tr>\n",
       "      <th>5767</th>\n",
       "      <td>0</td>\n",
       "      <td>0</td>\n",
       "      <td>0</td>\n",
       "      <td>0</td>\n",
       "      <td>0</td>\n",
       "      <td>0</td>\n",
       "      <td>2</td>\n",
       "    </tr>\n",
       "    <tr>\n",
       "      <th>...</th>\n",
       "      <td>...</td>\n",
       "      <td>...</td>\n",
       "      <td>...</td>\n",
       "      <td>...</td>\n",
       "      <td>...</td>\n",
       "      <td>...</td>\n",
       "      <td>...</td>\n",
       "    </tr>\n",
       "    <tr>\n",
       "      <th>9310</th>\n",
       "      <td>0</td>\n",
       "      <td>0</td>\n",
       "      <td>0</td>\n",
       "      <td>0</td>\n",
       "      <td>0</td>\n",
       "      <td>0</td>\n",
       "      <td>2</td>\n",
       "    </tr>\n",
       "    <tr>\n",
       "      <th>6195</th>\n",
       "      <td>0</td>\n",
       "      <td>0</td>\n",
       "      <td>0</td>\n",
       "      <td>0</td>\n",
       "      <td>0</td>\n",
       "      <td>0</td>\n",
       "      <td>2</td>\n",
       "    </tr>\n",
       "    <tr>\n",
       "      <th>4228</th>\n",
       "      <td>0</td>\n",
       "      <td>0</td>\n",
       "      <td>0</td>\n",
       "      <td>0</td>\n",
       "      <td>0</td>\n",
       "      <td>0</td>\n",
       "      <td>2</td>\n",
       "    </tr>\n",
       "    <tr>\n",
       "      <th>7230</th>\n",
       "      <td>0</td>\n",
       "      <td>0</td>\n",
       "      <td>0</td>\n",
       "      <td>0</td>\n",
       "      <td>0</td>\n",
       "      <td>0</td>\n",
       "      <td>2</td>\n",
       "    </tr>\n",
       "    <tr>\n",
       "      <th>4123</th>\n",
       "      <td>0</td>\n",
       "      <td>0</td>\n",
       "      <td>0</td>\n",
       "      <td>0</td>\n",
       "      <td>0</td>\n",
       "      <td>0</td>\n",
       "      <td>2</td>\n",
       "    </tr>\n",
       "  </tbody>\n",
       "</table>\n",
       "<p>7200 rows × 7 columns</p>\n",
       "</div>"
      ],
      "text/plain": [
       "      Machine failure  TWF  HDF  PWF  OSF  RNF  Failure Mode\n",
       "7604                0    0    0    0    0    0             2\n",
       "4593                0    0    0    0    0    0             2\n",
       "7976                0    0    0    0    0    0             2\n",
       "1576                0    0    0    0    0    0             2\n",
       "5767                0    0    0    0    0    0             2\n",
       "...               ...  ...  ...  ...  ...  ...           ...\n",
       "9310                0    0    0    0    0    0             2\n",
       "6195                0    0    0    0    0    0             2\n",
       "4228                0    0    0    0    0    0             2\n",
       "7230                0    0    0    0    0    0             2\n",
       "4123                0    0    0    0    0    0             2\n",
       "\n",
       "[7200 rows x 7 columns]"
      ]
     },
     "execution_count": 21,
     "metadata": {},
     "output_type": "execute_result"
    }
   ],
   "source": [
    "y_train"
   ]
  },
  {
   "cell_type": "code",
   "execution_count": 22,
   "metadata": {},
   "outputs": [
    {
     "ename": "TypeError",
     "evalue": "empty(): argument 'size' must be tuple of ints, but found element of type tuple at pos 2",
     "output_type": "error",
     "traceback": [
      "\u001b[0;31m---------------------------------------------------------------------------\u001b[0m",
      "\u001b[0;31mTypeError\u001b[0m                                 Traceback (most recent call last)",
      "Cell \u001b[0;32mIn[22], line 15\u001b[0m\n\u001b[1;32m     12\u001b[0m valid_loader \u001b[38;5;241m=\u001b[39m DataLoader(valid_data, batch_size\u001b[38;5;241m=\u001b[39mbatch_size, shuffle\u001b[38;5;241m=\u001b[39m\u001b[38;5;28;01mTrue\u001b[39;00m)\n\u001b[1;32m     13\u001b[0m test_loader \u001b[38;5;241m=\u001b[39m DataLoader(test_data, batch_size\u001b[38;5;241m=\u001b[39mbatch_size, shuffle\u001b[38;5;241m=\u001b[39m\u001b[38;5;28;01mTrue\u001b[39;00m)\n\u001b[0;32m---> 15\u001b[0m model \u001b[38;5;241m=\u001b[39m FeedForward(size_in\u001b[38;5;241m=\u001b[39mX_train\u001b[38;5;241m.\u001b[39mshape, size_out\u001b[38;5;241m=\u001b[39m\u001b[38;5;28mlen\u001b[39m(y_train[\u001b[38;5;124m'\u001b[39m\u001b[38;5;124mFailure Mode\u001b[39m\u001b[38;5;124m'\u001b[39m]\u001b[38;5;241m.\u001b[39munique()), k\u001b[38;5;241m=\u001b[39m\u001b[38;5;241m64\u001b[39m)\u001b[38;5;241m.\u001b[39mto(device)\n\u001b[1;32m     16\u001b[0m criterion \u001b[38;5;241m=\u001b[39m nn\u001b[38;5;241m.\u001b[39mBCEWithLogitsLoss()\n\u001b[1;32m     17\u001b[0m optimizer \u001b[38;5;241m=\u001b[39m torch\u001b[38;5;241m.\u001b[39moptim\u001b[38;5;241m.\u001b[39mAdam(model\u001b[38;5;241m.\u001b[39mparameters(), lr\u001b[38;5;241m=\u001b[39mlr)\n",
      "Cell \u001b[0;32mIn[20], line 16\u001b[0m, in \u001b[0;36mFeedForward.__init__\u001b[0;34m(self, size_in, size_out, k)\u001b[0m\n\u001b[1;32m     13\u001b[0m \u001b[38;5;28;01mdef\u001b[39;00m \u001b[38;5;21m__init__\u001b[39m(\u001b[38;5;28mself\u001b[39m, size_in, size_out, k):\n\u001b[1;32m     14\u001b[0m   \u001b[38;5;28msuper\u001b[39m(FeedForward, \u001b[38;5;28mself\u001b[39m)\u001b[38;5;241m.\u001b[39m\u001b[38;5;21m__init__\u001b[39m()\n\u001b[1;32m     15\u001b[0m   \u001b[38;5;28mself\u001b[39m\u001b[38;5;241m.\u001b[39mlinearStack \u001b[38;5;241m=\u001b[39m nn\u001b[38;5;241m.\u001b[39mSequential(\n\u001b[0;32m---> 16\u001b[0m       nn\u001b[38;5;241m.\u001b[39mLinear(size_in, k),\n\u001b[1;32m     17\u001b[0m       nn\u001b[38;5;241m.\u001b[39mTanh(),\n\u001b[1;32m     18\u001b[0m       nn\u001b[38;5;241m.\u001b[39mLinear(k, size_out),\n\u001b[1;32m     19\u001b[0m       nn\u001b[38;5;241m.\u001b[39mTanh()\n\u001b[1;32m     20\u001b[0m   )\n",
      "File \u001b[0;32m~/anaconda3/lib/python3.11/site-packages/torch/nn/modules/linear.py:96\u001b[0m, in \u001b[0;36mLinear.__init__\u001b[0;34m(self, in_features, out_features, bias, device, dtype)\u001b[0m\n\u001b[1;32m     94\u001b[0m \u001b[38;5;28mself\u001b[39m\u001b[38;5;241m.\u001b[39min_features \u001b[38;5;241m=\u001b[39m in_features\n\u001b[1;32m     95\u001b[0m \u001b[38;5;28mself\u001b[39m\u001b[38;5;241m.\u001b[39mout_features \u001b[38;5;241m=\u001b[39m out_features\n\u001b[0;32m---> 96\u001b[0m \u001b[38;5;28mself\u001b[39m\u001b[38;5;241m.\u001b[39mweight \u001b[38;5;241m=\u001b[39m Parameter(torch\u001b[38;5;241m.\u001b[39mempty((out_features, in_features), \u001b[38;5;241m*\u001b[39m\u001b[38;5;241m*\u001b[39mfactory_kwargs))\n\u001b[1;32m     97\u001b[0m \u001b[38;5;28;01mif\u001b[39;00m bias:\n\u001b[1;32m     98\u001b[0m     \u001b[38;5;28mself\u001b[39m\u001b[38;5;241m.\u001b[39mbias \u001b[38;5;241m=\u001b[39m Parameter(torch\u001b[38;5;241m.\u001b[39mempty(out_features, \u001b[38;5;241m*\u001b[39m\u001b[38;5;241m*\u001b[39mfactory_kwargs))\n",
      "\u001b[0;31mTypeError\u001b[0m: empty(): argument 'size' must be tuple of ints, but found element of type tuple at pos 2"
     ]
    }
   ],
   "source": [
    "importlib.reload(classify)\n",
    "\n",
    "batch_size = 32\n",
    "epochs = 100\n",
    "loss_fun = nn.BCEWithLogitsLoss()\n",
    "lr = 0.001\n",
    "\n",
    "train_data = Data(X_train, y_train['Failure Mode'])\n",
    "valid_data = Data(X_val, y_val['Failure Mode'])\n",
    "test_data = Data(X_test, y_test['Failure Mode'])\n",
    "train_loader = DataLoader(train_data, batch_size=batch_size, shuffle=True)\n",
    "valid_loader = DataLoader(valid_data, batch_size=batch_size, shuffle=True)\n",
    "test_loader = DataLoader(test_data, batch_size=batch_size, shuffle=True)\n",
    "\n",
    "model = FeedForward(size_in=X_train.shape, size_out=len(y_train['Failure Mode'].unique()), k=64).to(device)\n",
    "criterion = nn.BCEWithLogitsLoss()\n",
    "optimizer = torch.optim.Adam(model.parameters(), lr=lr)\n",
    "\n",
    "training_loss = []\n",
    "validation_loss = []\n",
    "for epoch in range(epochs):\n",
    "    avg_train_loss = train_model(model, train_loader, loss_fun, optimizer, device)    \n",
    "    _, accuracy, avg_valid_loss = evaluate_model(model, valid_loader, loss_fun, device)\n",
    "    training_loss.append(avg_train_loss)\n",
    "    validation_loss.append(avg_valid_loss)\n",
    "\n",
    "# Plot training and validation loss\n",
    "plt.plot(training_loss, label='Training Loss')\n",
    "plt.plot(validation_loss, label='Validation Loss')\n",
    "plt.xlabel('Epoch')\n",
    "plt.ylabel('Loss')\n",
    "plt.legend()\n",
    "plt.show()"
   ]
  },
  {
   "cell_type": "markdown",
   "metadata": {},
   "source": [
    "## 3 - Comparison"
   ]
  },
  {
   "cell_type": "markdown",
   "metadata": {},
   "source": [
    "The following section shows the performance comparison of different models. The metrics we used for comparison are: Accuracy, F1 Score and Matthews Correlation Coefficient."
   ]
  },
  {
   "cell_type": "code",
   "execution_count": 23,
   "metadata": {},
   "outputs": [
    {
     "name": "stdout",
     "output_type": "stream",
     "text": [
      "           Model  Matthews Correlation Coefficient  Accuracy  F1 Score\n",
      "0          naive                          0.000000     0.965  0.982188\n",
      "1  decision_tree                          0.685084     0.979  0.978524\n",
      "2            knn                          0.414574     0.969  0.975240\n",
      "3  random_forest                          0.754980     0.985  0.988589\n"
     ]
    }
   ],
   "source": [
    "naive_results = {\n",
    "    \"Model\": \"naive\",\n",
    "    \"Matthews Correlation Coefficient\": naive_matthews,\n",
    "    \"Accuracy\": naive_accuracy,\n",
    "    \"F1 Score\": naive_f1\n",
    "}\n",
    "\n",
    "decision_tree_results = {\n",
    "    \"Model\": \"decision_tree\",\n",
    "    \"Matthews Correlation Coefficient\": decision_tree_matthews,\n",
    "    \"Accuracy\": decision_tree_accuracy,\n",
    "    \"F1 Score\": decision_tree_f1\n",
    "}\n",
    "\n",
    "knn_results = {\n",
    "    \"Model\": \"knn\",\n",
    "    \"Matthews Correlation Coefficient\": knn_matthews,\n",
    "    \"Accuracy\": knn_accuracy,\n",
    "    \"F1 Score\": knn_f1\n",
    "}\n",
    "\n",
    "random_forest_results = {\n",
    "    \"Model\": \"random_forest\",\n",
    "    \"Matthews Correlation Coefficient\": random_forest_matthews,\n",
    "    \"Accuracy\": random_forest_accuracy,\n",
    "    \"F1 Score\": random_forest_f1\n",
    "}\n",
    "\n",
    "results = [naive_results, decision_tree_results, knn_results, random_forest_results]\n",
    "results_df = pd.DataFrame(results)\n",
    "print(results_df)"
   ]
  }
 ],
 "metadata": {
  "kernelspec": {
   "display_name": "base",
   "language": "python",
   "name": "python3"
  },
  "language_info": {
   "codemirror_mode": {
    "name": "ipython",
    "version": 3
   },
   "file_extension": ".py",
   "mimetype": "text/x-python",
   "name": "python",
   "nbconvert_exporter": "python",
   "pygments_lexer": "ipython3",
   "version": "3.11.4"
  }
 },
 "nbformat": 4,
 "nbformat_minor": 2
}
